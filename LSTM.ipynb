{
 "cells": [
  {
   "cell_type": "markdown",
   "metadata": {},
   "source": [
    "## Imports"
   ]
  },
  {
   "cell_type": "code",
   "execution_count": 1,
   "metadata": {},
   "outputs": [
    {
     "name": "stderr",
     "output_type": "stream",
     "text": [
      "/home/lab_services_student/anaconda3/lib/python3.9/site-packages/scipy/__init__.py:146: UserWarning: A NumPy version >=1.16.5 and <1.23.0 is required for this version of SciPy (detected version 1.24.3\n",
      "  warnings.warn(f\"A NumPy version >={np_minversion} and <{np_maxversion}\"\n",
      "2024-10-13 11:13:22.045492: I tensorflow/core/util/port.cc:153] oneDNN custom operations are on. You may see slightly different numerical results due to floating-point round-off errors from different computation orders. To turn them off, set the environment variable `TF_ENABLE_ONEDNN_OPTS=0`.\n",
      "2024-10-13 11:13:22.181499: I external/local_xla/xla/tsl/cuda/cudart_stub.cc:32] Could not find cuda drivers on your machine, GPU will not be used.\n",
      "2024-10-13 11:13:23.283958: I external/local_xla/xla/tsl/cuda/cudart_stub.cc:32] Could not find cuda drivers on your machine, GPU will not be used.\n",
      "2024-10-13 11:13:24.472412: E external/local_xla/xla/stream_executor/cuda/cuda_fft.cc:485] Unable to register cuFFT factory: Attempting to register factory for plugin cuFFT when one has already been registered\n",
      "2024-10-13 11:13:25.243132: E external/local_xla/xla/stream_executor/cuda/cuda_dnn.cc:8454] Unable to register cuDNN factory: Attempting to register factory for plugin cuDNN when one has already been registered\n",
      "2024-10-13 11:13:25.496420: E external/local_xla/xla/stream_executor/cuda/cuda_blas.cc:1452] Unable to register cuBLAS factory: Attempting to register factory for plugin cuBLAS when one has already been registered\n",
      "2024-10-13 11:13:27.242726: I tensorflow/core/platform/cpu_feature_guard.cc:210] This TensorFlow binary is optimized to use available CPU instructions in performance-critical operations.\n",
      "To enable the following instructions: AVX2 AVX512F AVX512_VNNI FMA, in other operations, rebuild TensorFlow with the appropriate compiler flags.\n",
      "2024-10-13 11:13:30.828767: W tensorflow/compiler/tf2tensorrt/utils/py_utils.cc:38] TF-TRT Warning: Could not find TensorRT\n"
     ]
    }
   ],
   "source": [
    "import numpy as np\n",
    "import pandas as pd\n",
    "from sklearn.preprocessing import LabelEncoder\n",
    "from ipaddress import *\n",
    "import seaborn as sns\n",
    "import matplotlib.pyplot as plt\n",
    "from sklearn.preprocessing import StandardScaler\n",
    "from sklearn.feature_extraction.text import CountVectorizer, TfidfVectorizer\n",
    "from sklearn.model_selection import train_test_split\n",
    "from sklearn.metrics import accuracy_score, confusion_matrix, precision_score, recall_score,f1_score,auc,roc_curve,roc_auc_score, ConfusionMatrixDisplay\n",
    "from sklearn.metrics import classification_report\n",
    "from sklearn.ensemble import RandomForestClassifier\n",
    "from sklearn import svm\n",
    "import tensorflow as tf\n",
    "from tensorflow.keras.preprocessing.text import Tokenizer\n",
    "from tensorflow.keras.preprocessing.sequence import pad_sequences\n",
    "from tensorflow.keras.callbacks import EarlyStopping\n",
    "from tensorflow.keras.models import Sequential,Model\n",
    "from tensorflow.keras.layers import SimpleRNN, Dense, Embedding, Dropout, Flatten, SpatialDropout1D, LSTM,Input, Concatenate, Reshape, InputLayer, concatenate\n",
    "from tensorflow.keras.regularizers import l1, l2, l1_l2\n",
    "import keras\n",
    "import re\n",
    "import tldextract\n",
    "import warnings\n",
    "warnings.filterwarnings(\"ignore\")\n",
    "sns.set_style(style='white') "
   ]
  },
  {
   "cell_type": "markdown",
   "metadata": {},
   "source": [
    "## Data Transforming"
   ]
  },
  {
   "cell_type": "code",
   "execution_count": 2,
   "metadata": {},
   "outputs": [],
   "source": [
    "\n",
    "data=pd.read_csv('cleaned_data.csv')\n",
    "df=data[['url','status']]\n",
    "data=data.drop('url',axis=1)"
   ]
  },
  {
   "cell_type": "code",
   "execution_count": 3,
   "metadata": {},
   "outputs": [
    {
     "data": {
      "text/html": [
       "<div>\n",
       "<style scoped>\n",
       "    .dataframe tbody tr th:only-of-type {\n",
       "        vertical-align: middle;\n",
       "    }\n",
       "\n",
       "    .dataframe tbody tr th {\n",
       "        vertical-align: top;\n",
       "    }\n",
       "\n",
       "    .dataframe thead th {\n",
       "        text-align: right;\n",
       "    }\n",
       "</style>\n",
       "<table border=\"1\" class=\"dataframe\">\n",
       "  <thead>\n",
       "    <tr style=\"text-align: right;\">\n",
       "      <th></th>\n",
       "      <th>status</th>\n",
       "      <th>url_length</th>\n",
       "      <th>num_special_chars</th>\n",
       "      <th>num_digits</th>\n",
       "      <th>num_dots</th>\n",
       "      <th>num_slash</th>\n",
       "      <th>num_and</th>\n",
       "      <th>num_percent</th>\n",
       "      <th>domain_length</th>\n",
       "      <th>num_digits_in_domain</th>\n",
       "      <th>has_subdomain</th>\n",
       "      <th>is_HTTPS</th>\n",
       "      <th>depth</th>\n",
       "      <th>top_domain_encoded</th>\n",
       "      <th>domain_encoded</th>\n",
       "    </tr>\n",
       "  </thead>\n",
       "  <tbody>\n",
       "    <tr>\n",
       "      <th>0</th>\n",
       "      <td>0</td>\n",
       "      <td>39</td>\n",
       "      <td>0</td>\n",
       "      <td>7</td>\n",
       "      <td>2</td>\n",
       "      <td>0</td>\n",
       "      <td>0</td>\n",
       "      <td>0</td>\n",
       "      <td>12</td>\n",
       "      <td>0</td>\n",
       "      <td>1</td>\n",
       "      <td>0</td>\n",
       "      <td>1</td>\n",
       "      <td>225</td>\n",
       "      <td>111707</td>\n",
       "    </tr>\n",
       "    <tr>\n",
       "      <th>1</th>\n",
       "      <td>0</td>\n",
       "      <td>36</td>\n",
       "      <td>0</td>\n",
       "      <td>6</td>\n",
       "      <td>2</td>\n",
       "      <td>0</td>\n",
       "      <td>0</td>\n",
       "      <td>0</td>\n",
       "      <td>12</td>\n",
       "      <td>0</td>\n",
       "      <td>1</td>\n",
       "      <td>0</td>\n",
       "      <td>1</td>\n",
       "      <td>225</td>\n",
       "      <td>111707</td>\n",
       "    </tr>\n",
       "    <tr>\n",
       "      <th>2</th>\n",
       "      <td>0</td>\n",
       "      <td>12</td>\n",
       "      <td>0</td>\n",
       "      <td>5</td>\n",
       "      <td>1</td>\n",
       "      <td>0</td>\n",
       "      <td>0</td>\n",
       "      <td>0</td>\n",
       "      <td>5</td>\n",
       "      <td>5</td>\n",
       "      <td>0</td>\n",
       "      <td>0</td>\n",
       "      <td>1</td>\n",
       "      <td>878</td>\n",
       "      <td>10</td>\n",
       "    </tr>\n",
       "    <tr>\n",
       "      <th>3</th>\n",
       "      <td>0</td>\n",
       "      <td>35</td>\n",
       "      <td>0</td>\n",
       "      <td>4</td>\n",
       "      <td>2</td>\n",
       "      <td>0</td>\n",
       "      <td>0</td>\n",
       "      <td>0</td>\n",
       "      <td>12</td>\n",
       "      <td>0</td>\n",
       "      <td>1</td>\n",
       "      <td>0</td>\n",
       "      <td>1</td>\n",
       "      <td>225</td>\n",
       "      <td>111707</td>\n",
       "    </tr>\n",
       "    <tr>\n",
       "      <th>4</th>\n",
       "      <td>0</td>\n",
       "      <td>20</td>\n",
       "      <td>0</td>\n",
       "      <td>5</td>\n",
       "      <td>2</td>\n",
       "      <td>0</td>\n",
       "      <td>0</td>\n",
       "      <td>0</td>\n",
       "      <td>8</td>\n",
       "      <td>0</td>\n",
       "      <td>1</td>\n",
       "      <td>0</td>\n",
       "      <td>1</td>\n",
       "      <td>225</td>\n",
       "      <td>291146</td>\n",
       "    </tr>\n",
       "  </tbody>\n",
       "</table>\n",
       "</div>"
      ],
      "text/plain": [
       "   status  url_length  num_special_chars  num_digits  num_dots  num_slash  \\\n",
       "0       0          39                  0           7         2          0   \n",
       "1       0          36                  0           6         2          0   \n",
       "2       0          12                  0           5         1          0   \n",
       "3       0          35                  0           4         2          0   \n",
       "4       0          20                  0           5         2          0   \n",
       "\n",
       "   num_and  num_percent  domain_length  num_digits_in_domain  has_subdomain  \\\n",
       "0        0            0             12                     0              1   \n",
       "1        0            0             12                     0              1   \n",
       "2        0            0              5                     5              0   \n",
       "3        0            0             12                     0              1   \n",
       "4        0            0              8                     0              1   \n",
       "\n",
       "   is_HTTPS  depth  top_domain_encoded  domain_encoded  \n",
       "0         0      1                 225          111707  \n",
       "1         0      1                 225          111707  \n",
       "2         0      1                 878              10  \n",
       "3         0      1                 225          111707  \n",
       "4         0      1                 225          291146  "
      ]
     },
     "execution_count": 3,
     "metadata": {},
     "output_type": "execute_result"
    }
   ],
   "source": [
    "data.head()"
   ]
  },
  {
   "cell_type": "code",
   "execution_count": 4,
   "metadata": {},
   "outputs": [],
   "source": [
    "y=data['status']\n",
    "vectorizer = TfidfVectorizer(analyzer='char')\n",
    "X=vectorizer.fit_transform(df.url)"
   ]
  },
  {
   "cell_type": "code",
   "execution_count": 5,
   "metadata": {},
   "outputs": [
    {
     "data": {
      "text/plain": [
       "(798463, 266)"
      ]
     },
     "execution_count": 5,
     "metadata": {},
     "output_type": "execute_result"
    }
   ],
   "source": [
    "X.shape"
   ]
  },
  {
   "cell_type": "code",
   "execution_count": 6,
   "metadata": {},
   "outputs": [
    {
     "name": "stdout",
     "output_type": "stream",
     "text": [
      "(798463, 266)\n"
     ]
    }
   ],
   "source": [
    "X=X.toarray()\n",
    "print(X.shape)\n",
    "X=X.reshape(X.shape[0],14,19)"
   ]
  },
  {
   "cell_type": "code",
   "execution_count": 7,
   "metadata": {},
   "outputs": [],
   "source": [
    "X_train, X_test, y_train,y_test = train_test_split(X,y,test_size=0.2,random_state=54)\n",
    "\n"
   ]
  },
  {
   "cell_type": "code",
   "execution_count": 8,
   "metadata": {},
   "outputs": [
    {
     "data": {
      "text/plain": [
       "(638770, 14, 19)"
      ]
     },
     "execution_count": 8,
     "metadata": {},
     "output_type": "execute_result"
    }
   ],
   "source": [
    "X_train.shape"
   ]
  },
  {
   "cell_type": "markdown",
   "metadata": {},
   "source": [
    "## LSTM"
   ]
  },
  {
   "cell_type": "code",
   "execution_count": 87,
   "metadata": {},
   "outputs": [],
   "source": []
  },
  {
   "cell_type": "code",
   "execution_count": 9,
   "metadata": {},
   "outputs": [],
   "source": [
    "tf.keras.backend.clear_session()\n",
    "tf.random.set_seed(50)\n",
    "Lstm  = Sequential()\n",
    "Lstm.add(LSTM(128,input_shape=(14,19),return_sequences=False))\n",
    "Lstm.add(Dropout(0.2))\n",
    "Lstm.add(Dense(24,activation='relu'))\n",
    "Lstm.add(Dense(1,activation ='sigmoid'))\n",
    "# Lstm.add(Dense(1,activation ='sigmoid',kernel_regularizer=l1(0.01), bias_regularizer=l2(0.01)))"
   ]
  },
  {
   "cell_type": "code",
   "execution_count": 10,
   "metadata": {},
   "outputs": [],
   "source": [
    "Lstm.compile(loss ='binary_crossentropy',optimizer='adam', metrics=['accuracy', 'precision', 'recall'])"
   ]
  },
  {
   "cell_type": "code",
   "execution_count": 11,
   "metadata": {},
   "outputs": [
    {
     "name": "stdout",
     "output_type": "stream",
     "text": [
      "Epoch 1/30\n",
      "19962/19962 - 187s - 9ms/step - accuracy: 0.8741 - loss: 0.2950 - precision: 0.8574 - recall: 0.9171 - val_accuracy: 0.9039 - val_loss: 0.2363 - val_precision: 0.8829 - val_recall: 0.9455\n",
      "Epoch 2/30\n",
      "19962/19962 - 180s - 9ms/step - accuracy: 0.9087 - loss: 0.2251 - precision: 0.8948 - recall: 0.9398 - val_accuracy: 0.9168 - val_loss: 0.2062 - val_precision: 0.9026 - val_recall: 0.9463\n",
      "Epoch 3/30\n",
      "19962/19962 - 265s - 13ms/step - accuracy: 0.9179 - loss: 0.2036 - precision: 0.9060 - recall: 0.9445 - val_accuracy: 0.9221 - val_loss: 0.1924 - val_precision: 0.9074 - val_recall: 0.9514\n",
      "Epoch 4/30\n",
      "19962/19962 - 321s - 16ms/step - accuracy: 0.9231 - loss: 0.1914 - precision: 0.9123 - recall: 0.9472 - val_accuracy: 0.9259 - val_loss: 0.1830 - val_precision: 0.9190 - val_recall: 0.9445\n",
      "Epoch 5/30\n",
      "19962/19962 - 310s - 16ms/step - accuracy: 0.9270 - loss: 0.1825 - precision: 0.9173 - recall: 0.9491 - val_accuracy: 0.9281 - val_loss: 0.1784 - val_precision: 0.9244 - val_recall: 0.9424\n",
      "Epoch 6/30\n",
      "19962/19962 - 224s - 11ms/step - accuracy: 0.9299 - loss: 0.1751 - precision: 0.9209 - recall: 0.9505 - val_accuracy: 0.9293 - val_loss: 0.1765 - val_precision: 0.9289 - val_recall: 0.9397\n",
      "Epoch 7/30\n",
      "19962/19962 - 233s - 12ms/step - accuracy: 0.9327 - loss: 0.1687 - precision: 0.9243 - recall: 0.9522 - val_accuracy: 0.9302 - val_loss: 0.1739 - val_precision: 0.9296 - val_recall: 0.9406\n",
      "Epoch 8/30\n",
      "19962/19962 - 253s - 13ms/step - accuracy: 0.9352 - loss: 0.1631 - precision: 0.9270 - recall: 0.9540 - val_accuracy: 0.9312 - val_loss: 0.1722 - val_precision: 0.9306 - val_recall: 0.9414\n",
      "Epoch 9/30\n",
      "19962/19962 - 273s - 14ms/step - accuracy: 0.9369 - loss: 0.1581 - precision: 0.9288 - recall: 0.9552 - val_accuracy: 0.9323 - val_loss: 0.1695 - val_precision: 0.9312 - val_recall: 0.9429\n",
      "Epoch 10/30\n",
      "19962/19962 - 243s - 12ms/step - accuracy: 0.9389 - loss: 0.1537 - precision: 0.9311 - recall: 0.9566 - val_accuracy: 0.9331 - val_loss: 0.1710 - val_precision: 0.9295 - val_recall: 0.9467\n",
      "Epoch 11/30\n",
      "19962/19962 - 240s - 12ms/step - accuracy: 0.9406 - loss: 0.1498 - precision: 0.9328 - recall: 0.9578 - val_accuracy: 0.9334 - val_loss: 0.1700 - val_precision: 0.9277 - val_recall: 0.9493\n",
      "Epoch 12/30\n",
      "19962/19962 - 240s - 12ms/step - accuracy: 0.9419 - loss: 0.1461 - precision: 0.9342 - recall: 0.9589 - val_accuracy: 0.9333 - val_loss: 0.1705 - val_precision: 0.9310 - val_recall: 0.9453\n",
      "Epoch 12: early stopping\n",
      "Restoring model weights from the end of the best epoch: 9.\n"
     ]
    }
   ],
   "source": [
    "num_epochs =30\n",
    "early_stop = EarlyStopping(monitor='val_loss',patience=3, verbose=1, restore_best_weights=True)\n",
    "historyL=Lstm.fit(X_train, y_train,epochs = num_epochs,validation_data=(X_test,y_test),callbacks =[early_stop],verbose =2)\n"
   ]
  },
  {
   "cell_type": "code",
   "execution_count": 12,
   "metadata": {},
   "outputs": [
    {
     "name": "stdout",
     "output_type": "stream",
     "text": [
      "4991/4991 - 21s - 4ms/step - accuracy: 0.9323 - loss: 0.1695 - precision: 0.9312 - recall: 0.9429\n",
      "\u001b[1m4991/4991\u001b[0m \u001b[32m━━━━━━━━━━━━━━━━━━━━\u001b[0m\u001b[37m\u001b[0m \u001b[1m22s\u001b[0m 4ms/step\n",
      "Restored Model Test Loss: 0.1694868505001068\n",
      "Restored Model Test Accuracy: 0.9322950839996338\n",
      "Restored Model Test Precision: 0.9312041401863098\n",
      "Restored Model Test Recall: 0.9429271221160889\n",
      "F1 Score: 0.9370289694696503\n",
      "ROC-AUC Score: 0.9815364521760407\n"
     ]
    }
   ],
   "source": [
    "results = Lstm.evaluate(X_test, y_test, verbose=2)\n",
    "y_pred_prob = Lstm.predict(X_test)  # Get the predicted probabilities\n",
    "y_pred = (y_pred_prob > 0.5).astype(int)  \n",
    "f1 = f1_score(y_test, y_pred)\n",
    "roc_auc = roc_auc_score(y_test, y_pred_prob)  \n",
    "# Assuming you compiled with accuracy, precision, and recall\n",
    "print(f\"Restored Model Test Loss: {results[0]}\")\n",
    "print(f\"Restored Model Test Accuracy: {results[1]}\")\n",
    "print(f\"Restored Model Test Precision: {results[2]}\")\n",
    "print(f\"Restored Model Test Recall: {results[3]}\")\n",
    "print(f\"F1 Score: {f1}\")\n",
    "print(f\"ROC-AUC Score: {roc_auc}\")"
   ]
  }
 ],
 "metadata": {
  "kernelspec": {
   "display_name": "base",
   "language": "python",
   "name": "python3"
  },
  "language_info": {
   "codemirror_mode": {
    "name": "ipython",
    "version": 3
   },
   "file_extension": ".py",
   "mimetype": "text/x-python",
   "name": "python",
   "nbconvert_exporter": "python",
   "pygments_lexer": "ipython3",
   "version": "3.9.7"
  }
 },
 "nbformat": 4,
 "nbformat_minor": 2
}
