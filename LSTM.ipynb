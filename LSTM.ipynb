{
 "cells": [
  {
   "cell_type": "markdown",
   "metadata": {},
   "source": [
    "## Imports"
   ]
  },
  {
   "cell_type": "code",
   "execution_count": 25,
   "metadata": {},
   "outputs": [],
   "source": [
    "import numpy as np\n",
    "import pandas as pd\n",
    "from sklearn.preprocessing import LabelEncoder\n",
    "from ipaddress import *\n",
    "import seaborn as sns\n",
    "import matplotlib.pyplot as plt\n",
    "from sklearn.preprocessing import StandardScaler\n",
    "from sklearn.feature_extraction.text import CountVectorizer, TfidfVectorizer\n",
    "from sklearn.model_selection import train_test_split\n",
    "from sklearn.metrics import accuracy_score, confusion_matrix, precision_score, recall_score, ConfusionMatrixDisplay\n",
    "from sklearn.metrics import classification_report\n",
    "from sklearn.ensemble import RandomForestClassifier\n",
    "from sklearn import svm\n",
    "import tensorflow as tf\n",
    "from tensorflow.keras.preprocessing.text import Tokenizer\n",
    "from tensorflow.keras.preprocessing.sequence import pad_sequences\n",
    "from tensorflow.keras.callbacks import EarlyStopping\n",
    "from tensorflow.keras.models import Sequential,Model\n",
    "from tensorflow.keras.layers import SimpleRNN, Dense, Embedding, Dropout, Flatten, SpatialDropout1D, LSTM,Input, Concatenate, Reshape, InputLayer, concatenate\n",
    "from tensorflow.keras.regularizers import l1, l2, l1_l2\n",
    "import keras\n",
    "import re\n",
    "import tldextract\n",
    "import warnings\n",
    "warnings.filterwarnings(\"ignore\")\n",
    "sns.set_style(style='white') "
   ]
  },
  {
   "cell_type": "markdown",
   "metadata": {},
   "source": [
    "## Data Transforming"
   ]
  },
  {
   "cell_type": "code",
   "execution_count": 26,
   "metadata": {},
   "outputs": [],
   "source": [
    "\n",
    "data=pd.read_csv('cleaned_data.csv')\n",
    "df=data[['url','status']]\n",
    "data=data.drop('url',axis=1)"
   ]
  },
  {
   "cell_type": "code",
   "execution_count": 27,
   "metadata": {},
   "outputs": [
    {
     "data": {
      "text/html": [
       "<div>\n",
       "<style scoped>\n",
       "    .dataframe tbody tr th:only-of-type {\n",
       "        vertical-align: middle;\n",
       "    }\n",
       "\n",
       "    .dataframe tbody tr th {\n",
       "        vertical-align: top;\n",
       "    }\n",
       "\n",
       "    .dataframe thead th {\n",
       "        text-align: right;\n",
       "    }\n",
       "</style>\n",
       "<table border=\"1\" class=\"dataframe\">\n",
       "  <thead>\n",
       "    <tr style=\"text-align: right;\">\n",
       "      <th></th>\n",
       "      <th>status</th>\n",
       "      <th>url_length</th>\n",
       "      <th>num_special_chars</th>\n",
       "      <th>num_digits</th>\n",
       "      <th>num_dots</th>\n",
       "      <th>num_slash</th>\n",
       "      <th>num_and</th>\n",
       "      <th>num_percent</th>\n",
       "      <th>domain_length</th>\n",
       "      <th>num_digits_in_domain</th>\n",
       "      <th>has_subdomain</th>\n",
       "      <th>is_HTTPS</th>\n",
       "      <th>depth</th>\n",
       "      <th>top_domain_encoded</th>\n",
       "      <th>domain_encoded</th>\n",
       "    </tr>\n",
       "  </thead>\n",
       "  <tbody>\n",
       "    <tr>\n",
       "      <th>0</th>\n",
       "      <td>0</td>\n",
       "      <td>39</td>\n",
       "      <td>0</td>\n",
       "      <td>7</td>\n",
       "      <td>2</td>\n",
       "      <td>0</td>\n",
       "      <td>0</td>\n",
       "      <td>0</td>\n",
       "      <td>12</td>\n",
       "      <td>0</td>\n",
       "      <td>1</td>\n",
       "      <td>0</td>\n",
       "      <td>1</td>\n",
       "      <td>225</td>\n",
       "      <td>111707</td>\n",
       "    </tr>\n",
       "    <tr>\n",
       "      <th>1</th>\n",
       "      <td>0</td>\n",
       "      <td>36</td>\n",
       "      <td>0</td>\n",
       "      <td>6</td>\n",
       "      <td>2</td>\n",
       "      <td>0</td>\n",
       "      <td>0</td>\n",
       "      <td>0</td>\n",
       "      <td>12</td>\n",
       "      <td>0</td>\n",
       "      <td>1</td>\n",
       "      <td>0</td>\n",
       "      <td>1</td>\n",
       "      <td>225</td>\n",
       "      <td>111707</td>\n",
       "    </tr>\n",
       "    <tr>\n",
       "      <th>2</th>\n",
       "      <td>0</td>\n",
       "      <td>12</td>\n",
       "      <td>0</td>\n",
       "      <td>5</td>\n",
       "      <td>1</td>\n",
       "      <td>0</td>\n",
       "      <td>0</td>\n",
       "      <td>0</td>\n",
       "      <td>5</td>\n",
       "      <td>5</td>\n",
       "      <td>0</td>\n",
       "      <td>0</td>\n",
       "      <td>1</td>\n",
       "      <td>878</td>\n",
       "      <td>10</td>\n",
       "    </tr>\n",
       "    <tr>\n",
       "      <th>3</th>\n",
       "      <td>0</td>\n",
       "      <td>35</td>\n",
       "      <td>0</td>\n",
       "      <td>4</td>\n",
       "      <td>2</td>\n",
       "      <td>0</td>\n",
       "      <td>0</td>\n",
       "      <td>0</td>\n",
       "      <td>12</td>\n",
       "      <td>0</td>\n",
       "      <td>1</td>\n",
       "      <td>0</td>\n",
       "      <td>1</td>\n",
       "      <td>225</td>\n",
       "      <td>111707</td>\n",
       "    </tr>\n",
       "    <tr>\n",
       "      <th>4</th>\n",
       "      <td>0</td>\n",
       "      <td>20</td>\n",
       "      <td>0</td>\n",
       "      <td>5</td>\n",
       "      <td>2</td>\n",
       "      <td>0</td>\n",
       "      <td>0</td>\n",
       "      <td>0</td>\n",
       "      <td>8</td>\n",
       "      <td>0</td>\n",
       "      <td>1</td>\n",
       "      <td>0</td>\n",
       "      <td>1</td>\n",
       "      <td>225</td>\n",
       "      <td>291146</td>\n",
       "    </tr>\n",
       "  </tbody>\n",
       "</table>\n",
       "</div>"
      ],
      "text/plain": [
       "   status  url_length  num_special_chars  num_digits  num_dots  num_slash  \\\n",
       "0       0          39                  0           7         2          0   \n",
       "1       0          36                  0           6         2          0   \n",
       "2       0          12                  0           5         1          0   \n",
       "3       0          35                  0           4         2          0   \n",
       "4       0          20                  0           5         2          0   \n",
       "\n",
       "   num_and  num_percent  domain_length  num_digits_in_domain  has_subdomain  \\\n",
       "0        0            0             12                     0              1   \n",
       "1        0            0             12                     0              1   \n",
       "2        0            0              5                     5              0   \n",
       "3        0            0             12                     0              1   \n",
       "4        0            0              8                     0              1   \n",
       "\n",
       "   is_HTTPS  depth  top_domain_encoded  domain_encoded  \n",
       "0         0      1                 225          111707  \n",
       "1         0      1                 225          111707  \n",
       "2         0      1                 878              10  \n",
       "3         0      1                 225          111707  \n",
       "4         0      1                 225          291146  "
      ]
     },
     "execution_count": 27,
     "metadata": {},
     "output_type": "execute_result"
    }
   ],
   "source": [
    "data.head()"
   ]
  },
  {
   "cell_type": "code",
   "execution_count": 28,
   "metadata": {},
   "outputs": [],
   "source": [
    "y=data['status']\n",
    "vectorizer = TfidfVectorizer(analyzer='char')\n",
    "X=vectorizer.fit_transform(df.url)"
   ]
  },
  {
   "cell_type": "code",
   "execution_count": 29,
   "metadata": {},
   "outputs": [
    {
     "data": {
      "text/plain": [
       "(798463, 266)"
      ]
     },
     "execution_count": 29,
     "metadata": {},
     "output_type": "execute_result"
    }
   ],
   "source": [
    "X.shape"
   ]
  },
  {
   "cell_type": "code",
   "execution_count": 30,
   "metadata": {},
   "outputs": [
    {
     "name": "stdout",
     "output_type": "stream",
     "text": [
      "(798463, 266)\n"
     ]
    }
   ],
   "source": [
    "X=X.toarray()\n",
    "print(X.shape)\n",
    "X=X.reshape(X.shape[0],14,19)"
   ]
  },
  {
   "cell_type": "code",
   "execution_count": 31,
   "metadata": {},
   "outputs": [],
   "source": [
    "X_train, X_test, y_train,y_test = train_test_split(X,y,test_size=0.3,random_state=54)\n",
    "\n"
   ]
  },
  {
   "cell_type": "code",
   "execution_count": 32,
   "metadata": {},
   "outputs": [
    {
     "data": {
      "text/plain": [
       "(558924, 14, 19)"
      ]
     },
     "execution_count": 32,
     "metadata": {},
     "output_type": "execute_result"
    }
   ],
   "source": [
    "X_train.shape"
   ]
  },
  {
   "cell_type": "code",
   "execution_count": 33,
   "metadata": {},
   "outputs": [],
   "source": [
    "# X_train = pad_sequences(X_train, padding='post', truncating='post')\n",
    "# X_test = pad_sequences(X_test, padding='post', truncating='post')\n"
   ]
  },
  {
   "cell_type": "markdown",
   "metadata": {},
   "source": [
    "## LSTM"
   ]
  },
  {
   "cell_type": "code",
   "execution_count": 87,
   "metadata": {},
   "outputs": [],
   "source": []
  },
  {
   "cell_type": "code",
   "execution_count": 34,
   "metadata": {},
   "outputs": [],
   "source": [
    "tf.keras.backend.clear_session()\n",
    "tf.random.set_seed(50)\n",
    "Lstm  = Sequential()\n",
    "Lstm.add(LSTM(128,input_shape=(14,19),return_sequences=False))\n",
    "Lstm.add(Dropout(0.2))\n",
    "Lstm.add(Dense(24,activation='relu'))\n",
    "Lstm.add(Dense(1,activation ='sigmoid'))\n",
    "# Lstm.add(Dense(1,activation ='sigmoid',kernel_regularizer=l1(0.01), bias_regularizer=l2(0.01)))"
   ]
  },
  {
   "cell_type": "code",
   "execution_count": 35,
   "metadata": {},
   "outputs": [],
   "source": [
    "Lstm.compile(loss ='binary_crossentropy',optimizer='adam', metrics=['accuracy', 'precision', 'recall'])"
   ]
  },
  {
   "cell_type": "code",
   "execution_count": 36,
   "metadata": {},
   "outputs": [
    {
     "name": "stdout",
     "output_type": "stream",
     "text": [
      "Epoch 1/30\n",
      "17467/17467 - 225s - 13ms/step - accuracy: 0.8715 - loss: 0.3013 - precision: 0.8549 - recall: 0.9149 - val_accuracy: 0.8963 - val_loss: 0.2509 - val_precision: 0.8629 - val_recall: 0.9582\n",
      "Epoch 2/30\n",
      "17467/17467 - 270s - 15ms/step - accuracy: 0.9051 - loss: 0.2323 - precision: 0.8908 - recall: 0.9375 - val_accuracy: 0.9142 - val_loss: 0.2106 - val_precision: 0.8935 - val_recall: 0.9532\n",
      "Epoch 3/30\n",
      "17467/17467 - 255s - 15ms/step - accuracy: 0.9150 - loss: 0.2100 - precision: 0.9037 - recall: 0.9414 - val_accuracy: 0.9205 - val_loss: 0.1972 - val_precision: 0.9055 - val_recall: 0.9504\n",
      "Epoch 4/30\n",
      "17467/17467 - 240s - 14ms/step - accuracy: 0.9207 - loss: 0.1972 - precision: 0.9102 - recall: 0.9449 - val_accuracy: 0.9236 - val_loss: 0.1895 - val_precision: 0.9117 - val_recall: 0.9491\n",
      "Epoch 5/30\n",
      "17467/17467 - 248s - 14ms/step - accuracy: 0.9249 - loss: 0.1873 - precision: 0.9154 - recall: 0.9471 - val_accuracy: 0.9267 - val_loss: 0.1817 - val_precision: 0.9138 - val_recall: 0.9529\n",
      "Epoch 6/30\n",
      "17467/17467 - 219s - 13ms/step - accuracy: 0.9283 - loss: 0.1796 - precision: 0.9192 - recall: 0.9493 - val_accuracy: 0.9282 - val_loss: 0.1789 - val_precision: 0.9152 - val_recall: 0.9540\n",
      "Epoch 7/30\n",
      "17467/17467 - 264s - 15ms/step - accuracy: 0.9308 - loss: 0.1730 - precision: 0.9219 - recall: 0.9512 - val_accuracy: 0.9298 - val_loss: 0.1748 - val_precision: 0.9178 - val_recall: 0.9541\n",
      "Epoch 8/30\n",
      "17467/17467 - 230s - 13ms/step - accuracy: 0.9337 - loss: 0.1672 - precision: 0.9248 - recall: 0.9534 - val_accuracy: 0.9317 - val_loss: 0.1720 - val_precision: 0.9195 - val_recall: 0.9559\n",
      "Epoch 9/30\n",
      "17467/17467 - 259s - 15ms/step - accuracy: 0.9355 - loss: 0.1618 - precision: 0.9269 - recall: 0.9548 - val_accuracy: 0.9315 - val_loss: 0.1739 - val_precision: 0.9199 - val_recall: 0.9551\n",
      "Epoch 10/30\n",
      "17467/17467 - 235s - 13ms/step - accuracy: 0.9377 - loss: 0.1566 - precision: 0.9294 - recall: 0.9562 - val_accuracy: 0.9313 - val_loss: 0.1753 - val_precision: 0.9211 - val_recall: 0.9532\n",
      "Epoch 11/30\n",
      "17467/17467 - 237s - 14ms/step - accuracy: 0.9395 - loss: 0.1522 - precision: 0.9314 - recall: 0.9573 - val_accuracy: 0.9318 - val_loss: 0.1758 - val_precision: 0.9199 - val_recall: 0.9557\n",
      "Epoch 11: early stopping\n",
      "Restoring model weights from the end of the best epoch: 8.\n"
     ]
    }
   ],
   "source": [
    "num_epochs =30\n",
    "early_stop = EarlyStopping(monitor='val_loss',patience=3, verbose=1, restore_best_weights=True)\n",
    "historyL=Lstm.fit(X_train, y_train,epochs = num_epochs,validation_data=(X_test,y_test),callbacks =[early_stop],verbose =2)\n",
    "# around8 minutes an epeoch when split \n",
    "# reached around88"
   ]
  }
 ],
 "metadata": {
  "kernelspec": {
   "display_name": "base",
   "language": "python",
   "name": "python3"
  },
  "language_info": {
   "codemirror_mode": {
    "name": "ipython",
    "version": 3
   },
   "file_extension": ".py",
   "mimetype": "text/x-python",
   "name": "python",
   "nbconvert_exporter": "python",
   "pygments_lexer": "ipython3",
   "version": "3.9.7"
  }
 },
 "nbformat": 4,
 "nbformat_minor": 2
}
