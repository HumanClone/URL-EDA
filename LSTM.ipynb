{
 "cells": [
  {
   "cell_type": "markdown",
   "metadata": {},
   "source": [
    "## Imports"
   ]
  },
  {
   "cell_type": "code",
   "execution_count": 82,
   "metadata": {},
   "outputs": [],
   "source": [
    "import numpy as np\n",
    "import pandas as pd\n",
    "from sklearn.preprocessing import LabelEncoder\n",
    "from ipaddress import *\n",
    "import seaborn as sns\n",
    "import matplotlib.pyplot as plt\n",
    "from sklearn.feature_extraction.text import CountVectorizer, TfidfVectorizer\n",
    "from sklearn.model_selection import train_test_split\n",
    "from sklearn.metrics import accuracy_score, confusion_matrix, precision_score, recall_score, ConfusionMatrixDisplay\n",
    "from sklearn.metrics import classification_report\n",
    "from sklearn.ensemble import RandomForestClassifier\n",
    "from sklearn import svm\n",
    "import tensorflow as tf\n",
    "from tensorflow.keras.preprocessing.text import Tokenizer\n",
    "from tensorflow.keras.preprocessing.sequence import pad_sequences\n",
    "from tensorflow.keras.callbacks import EarlyStopping\n",
    "from tensorflow.keras.models import Sequential,Model\n",
    "from tensorflow.keras.layers import SimpleRNN, Dense, Embedding, Dropout, Flatten, SpatialDropout1D, LSTM,Input, Concatenate, Reshape, InputLayer, concatenate\n",
    "from tensorflow.keras.regularizers import l1, l2, l1_l2\n",
    "import keras\n",
    "import re\n",
    "import tldextract\n",
    "import warnings\n",
    "warnings.filterwarnings(\"ignore\")\n",
    "sns.set_style(style='white') "
   ]
  },
  {
   "cell_type": "markdown",
   "metadata": {},
   "source": [
    "## Data Transforming"
   ]
  },
  {
   "cell_type": "code",
   "execution_count": 83,
   "metadata": {},
   "outputs": [],
   "source": [
    "\n",
    "data=pd.read_csv('cleaned_data.csv')\n",
    "df=data[['url','status']]"
   ]
  },
  {
   "cell_type": "code",
   "execution_count": 84,
   "metadata": {},
   "outputs": [
    {
     "data": {
      "text/html": [
       "<div>\n",
       "<style scoped>\n",
       "    .dataframe tbody tr th:only-of-type {\n",
       "        vertical-align: middle;\n",
       "    }\n",
       "\n",
       "    .dataframe tbody tr th {\n",
       "        vertical-align: top;\n",
       "    }\n",
       "\n",
       "    .dataframe thead th {\n",
       "        text-align: right;\n",
       "    }\n",
       "</style>\n",
       "<table border=\"1\" class=\"dataframe\">\n",
       "  <thead>\n",
       "    <tr style=\"text-align: right;\">\n",
       "      <th></th>\n",
       "      <th>url</th>\n",
       "      <th>status</th>\n",
       "      <th>url_length</th>\n",
       "      <th>class</th>\n",
       "      <th>num_special_chars</th>\n",
       "      <th>num_digits</th>\n",
       "      <th>num_dots</th>\n",
       "      <th>num_slash</th>\n",
       "      <th>num_and</th>\n",
       "      <th>num_percent</th>\n",
       "      <th>domain</th>\n",
       "      <th>domain_length</th>\n",
       "      <th>num_digits_in_domain</th>\n",
       "      <th>subdomain</th>\n",
       "      <th>num_subdomains</th>\n",
       "      <th>pcount</th>\n",
       "      <th>top_domain</th>\n",
       "      <th>ptld</th>\n",
       "      <th>spl</th>\n",
       "      <th>is_HTTPS</th>\n",
       "      <th>depth</th>\n",
       "      <th>subdomain_digits</th>\n",
       "    </tr>\n",
       "  </thead>\n",
       "  <tbody>\n",
       "    <tr>\n",
       "      <th>0</th>\n",
       "      <td>0000111servicehelpdesk.godaddysites.com</td>\n",
       "      <td>0</td>\n",
       "      <td>39</td>\n",
       "      <td>phishing</td>\n",
       "      <td>0</td>\n",
       "      <td>7</td>\n",
       "      <td>2</td>\n",
       "      <td>0</td>\n",
       "      <td>0</td>\n",
       "      <td>0</td>\n",
       "      <td>godaddysites</td>\n",
       "      <td>12</td>\n",
       "      <td>0</td>\n",
       "      <td>0000111servicehelpdesk</td>\n",
       "      <td>1</td>\n",
       "      <td>2</td>\n",
       "      <td>com</td>\n",
       "      <td>1</td>\n",
       "      <td>3</td>\n",
       "      <td>0</td>\n",
       "      <td>1</td>\n",
       "      <td>7</td>\n",
       "    </tr>\n",
       "    <tr>\n",
       "      <th>1</th>\n",
       "      <td>000011accesswebform.godaddysites.com</td>\n",
       "      <td>0</td>\n",
       "      <td>36</td>\n",
       "      <td>phishing</td>\n",
       "      <td>0</td>\n",
       "      <td>6</td>\n",
       "      <td>2</td>\n",
       "      <td>0</td>\n",
       "      <td>0</td>\n",
       "      <td>0</td>\n",
       "      <td>godaddysites</td>\n",
       "      <td>12</td>\n",
       "      <td>0</td>\n",
       "      <td>000011accesswebform</td>\n",
       "      <td>1</td>\n",
       "      <td>2</td>\n",
       "      <td>com</td>\n",
       "      <td>1</td>\n",
       "      <td>3</td>\n",
       "      <td>0</td>\n",
       "      <td>1</td>\n",
       "      <td>6</td>\n",
       "    </tr>\n",
       "    <tr>\n",
       "      <th>2</th>\n",
       "      <td>00003.online</td>\n",
       "      <td>0</td>\n",
       "      <td>12</td>\n",
       "      <td>phishing</td>\n",
       "      <td>0</td>\n",
       "      <td>5</td>\n",
       "      <td>1</td>\n",
       "      <td>0</td>\n",
       "      <td>0</td>\n",
       "      <td>0</td>\n",
       "      <td>00003</td>\n",
       "      <td>5</td>\n",
       "      <td>5</td>\n",
       "      <td>NaN</td>\n",
       "      <td>0</td>\n",
       "      <td>1</td>\n",
       "      <td>online</td>\n",
       "      <td>1</td>\n",
       "      <td>2</td>\n",
       "      <td>0</td>\n",
       "      <td>1</td>\n",
       "      <td>0</td>\n",
       "    </tr>\n",
       "    <tr>\n",
       "      <th>3</th>\n",
       "      <td>0009servicedeskowa.godaddysites.com</td>\n",
       "      <td>0</td>\n",
       "      <td>35</td>\n",
       "      <td>phishing</td>\n",
       "      <td>0</td>\n",
       "      <td>4</td>\n",
       "      <td>2</td>\n",
       "      <td>0</td>\n",
       "      <td>0</td>\n",
       "      <td>0</td>\n",
       "      <td>godaddysites</td>\n",
       "      <td>12</td>\n",
       "      <td>0</td>\n",
       "      <td>0009servicedeskowa</td>\n",
       "      <td>1</td>\n",
       "      <td>2</td>\n",
       "      <td>com</td>\n",
       "      <td>1</td>\n",
       "      <td>3</td>\n",
       "      <td>0</td>\n",
       "      <td>1</td>\n",
       "      <td>4</td>\n",
       "    </tr>\n",
       "    <tr>\n",
       "      <th>4</th>\n",
       "      <td>000n38p.wcomhost.com</td>\n",
       "      <td>0</td>\n",
       "      <td>20</td>\n",
       "      <td>phishing</td>\n",
       "      <td>0</td>\n",
       "      <td>5</td>\n",
       "      <td>2</td>\n",
       "      <td>0</td>\n",
       "      <td>0</td>\n",
       "      <td>0</td>\n",
       "      <td>wcomhost</td>\n",
       "      <td>8</td>\n",
       "      <td>0</td>\n",
       "      <td>000n38p</td>\n",
       "      <td>1</td>\n",
       "      <td>2</td>\n",
       "      <td>com</td>\n",
       "      <td>1</td>\n",
       "      <td>3</td>\n",
       "      <td>0</td>\n",
       "      <td>1</td>\n",
       "      <td>5</td>\n",
       "    </tr>\n",
       "    <tr>\n",
       "      <th>...</th>\n",
       "      <td>...</td>\n",
       "      <td>...</td>\n",
       "      <td>...</td>\n",
       "      <td>...</td>\n",
       "      <td>...</td>\n",
       "      <td>...</td>\n",
       "      <td>...</td>\n",
       "      <td>...</td>\n",
       "      <td>...</td>\n",
       "      <td>...</td>\n",
       "      <td>...</td>\n",
       "      <td>...</td>\n",
       "      <td>...</td>\n",
       "      <td>...</td>\n",
       "      <td>...</td>\n",
       "      <td>...</td>\n",
       "      <td>...</td>\n",
       "      <td>...</td>\n",
       "      <td>...</td>\n",
       "      <td>...</td>\n",
       "      <td>...</td>\n",
       "      <td>...</td>\n",
       "    </tr>\n",
       "    <tr>\n",
       "      <th>798458</th>\n",
       "      <td>zzufg.com</td>\n",
       "      <td>0</td>\n",
       "      <td>9</td>\n",
       "      <td>phishing</td>\n",
       "      <td>0</td>\n",
       "      <td>0</td>\n",
       "      <td>1</td>\n",
       "      <td>0</td>\n",
       "      <td>0</td>\n",
       "      <td>0</td>\n",
       "      <td>zzufg</td>\n",
       "      <td>5</td>\n",
       "      <td>0</td>\n",
       "      <td>NaN</td>\n",
       "      <td>0</td>\n",
       "      <td>1</td>\n",
       "      <td>com</td>\n",
       "      <td>1</td>\n",
       "      <td>2</td>\n",
       "      <td>0</td>\n",
       "      <td>1</td>\n",
       "      <td>0</td>\n",
       "    </tr>\n",
       "    <tr>\n",
       "      <th>798459</th>\n",
       "      <td>zzu.li</td>\n",
       "      <td>0</td>\n",
       "      <td>6</td>\n",
       "      <td>phishing</td>\n",
       "      <td>0</td>\n",
       "      <td>0</td>\n",
       "      <td>1</td>\n",
       "      <td>0</td>\n",
       "      <td>0</td>\n",
       "      <td>0</td>\n",
       "      <td>zzu</td>\n",
       "      <td>3</td>\n",
       "      <td>0</td>\n",
       "      <td>NaN</td>\n",
       "      <td>0</td>\n",
       "      <td>1</td>\n",
       "      <td>li</td>\n",
       "      <td>1</td>\n",
       "      <td>2</td>\n",
       "      <td>0</td>\n",
       "      <td>1</td>\n",
       "      <td>0</td>\n",
       "    </tr>\n",
       "    <tr>\n",
       "      <th>798460</th>\n",
       "      <td>zzz.co.uk</td>\n",
       "      <td>0</td>\n",
       "      <td>9</td>\n",
       "      <td>phishing</td>\n",
       "      <td>0</td>\n",
       "      <td>0</td>\n",
       "      <td>2</td>\n",
       "      <td>0</td>\n",
       "      <td>0</td>\n",
       "      <td>0</td>\n",
       "      <td>zzz</td>\n",
       "      <td>3</td>\n",
       "      <td>0</td>\n",
       "      <td>NaN</td>\n",
       "      <td>0</td>\n",
       "      <td>2</td>\n",
       "      <td>co.uk</td>\n",
       "      <td>2</td>\n",
       "      <td>3</td>\n",
       "      <td>0</td>\n",
       "      <td>1</td>\n",
       "      <td>0</td>\n",
       "    </tr>\n",
       "    <tr>\n",
       "      <th>798461</th>\n",
       "      <td>zzzoolight.co.za</td>\n",
       "      <td>0</td>\n",
       "      <td>16</td>\n",
       "      <td>phishing</td>\n",
       "      <td>0</td>\n",
       "      <td>0</td>\n",
       "      <td>2</td>\n",
       "      <td>0</td>\n",
       "      <td>0</td>\n",
       "      <td>0</td>\n",
       "      <td>zzzoolight</td>\n",
       "      <td>10</td>\n",
       "      <td>0</td>\n",
       "      <td>NaN</td>\n",
       "      <td>0</td>\n",
       "      <td>2</td>\n",
       "      <td>co.za</td>\n",
       "      <td>2</td>\n",
       "      <td>3</td>\n",
       "      <td>0</td>\n",
       "      <td>1</td>\n",
       "      <td>0</td>\n",
       "    </tr>\n",
       "    <tr>\n",
       "      <th>798462</th>\n",
       "      <td>zzzoolight.co.za0-i-fdik.000webhostapp.com</td>\n",
       "      <td>0</td>\n",
       "      <td>42</td>\n",
       "      <td>phishing</td>\n",
       "      <td>2</td>\n",
       "      <td>4</td>\n",
       "      <td>4</td>\n",
       "      <td>0</td>\n",
       "      <td>0</td>\n",
       "      <td>0</td>\n",
       "      <td>000webhostapp</td>\n",
       "      <td>13</td>\n",
       "      <td>3</td>\n",
       "      <td>zzzoolight.co.za0-i-fdik</td>\n",
       "      <td>3</td>\n",
       "      <td>4</td>\n",
       "      <td>com</td>\n",
       "      <td>1</td>\n",
       "      <td>5</td>\n",
       "      <td>0</td>\n",
       "      <td>1</td>\n",
       "      <td>1</td>\n",
       "    </tr>\n",
       "  </tbody>\n",
       "</table>\n",
       "<p>798463 rows × 22 columns</p>\n",
       "</div>"
      ],
      "text/plain": [
       "                                               url  ...  subdomain_digits\n",
       "0          0000111servicehelpdesk.godaddysites.com  ...                 7\n",
       "1             000011accesswebform.godaddysites.com  ...                 6\n",
       "2                                     00003.online  ...                 0\n",
       "3              0009servicedeskowa.godaddysites.com  ...                 4\n",
       "4                             000n38p.wcomhost.com  ...                 5\n",
       "...                                            ...  ...               ...\n",
       "798458                                   zzufg.com  ...                 0\n",
       "798459                                      zzu.li  ...                 0\n",
       "798460                                   zzz.co.uk  ...                 0\n",
       "798461                            zzzoolight.co.za  ...                 0\n",
       "798462  zzzoolight.co.za0-i-fdik.000webhostapp.com  ...                 1\n",
       "\n",
       "[798463 rows x 22 columns]"
      ]
     },
     "execution_count": 84,
     "metadata": {},
     "output_type": "execute_result"
    }
   ],
   "source": [
    "data"
   ]
  },
  {
   "cell_type": "code",
   "execution_count": 85,
   "metadata": {},
   "outputs": [],
   "source": [
    "# def sp(text):\n",
    "#     res=[]\n",
    "#     res[:]=text+' '\n",
    "#     # return res\n",
    "#     return \" \".join(res)\n",
    "# df.url=df.url.apply(sp)\n"
   ]
  },
  {
   "cell_type": "code",
   "execution_count": 86,
   "metadata": {},
   "outputs": [
    {
     "data": {
      "text/plain": [
       "0            0000111servicehelpdesk.godaddysites.com\n",
       "1               000011accesswebform.godaddysites.com\n",
       "2                                       00003.online\n",
       "3                0009servicedeskowa.godaddysites.com\n",
       "4                               000n38p.wcomhost.com\n",
       "                             ...                    \n",
       "798458                                     zzufg.com\n",
       "798459                                        zzu.li\n",
       "798460                                     zzz.co.uk\n",
       "798461                              zzzoolight.co.za\n",
       "798462    zzzoolight.co.za0-i-fdik.000webhostapp.com\n",
       "Name: url, Length: 798463, dtype: object"
      ]
     },
     "execution_count": 86,
     "metadata": {},
     "output_type": "execute_result"
    }
   ],
   "source": [
    "df.url"
   ]
  },
  {
   "cell_type": "code",
   "execution_count": 87,
   "metadata": {},
   "outputs": [],
   "source": [
    "from sklearn.preprocessing import LabelEncoder\n",
    "\n",
    "\n",
    "label_encoder = LabelEncoder()\n",
    "data['top_domain_encoded'] = label_encoder.fit_transform(data['top_domain'])\n",
    "data['domain_encoded'] = label_encoder.fit_transform(data['domain'])\n",
    "data['subdomain_encoded'] = label_encoder.fit_transform(data['subdomain'])\n",
    "data=data.drop(columns=['url','domain','class','ptld','spl','subdomain','top_domain','pcount'])\n"
   ]
  },
  {
   "cell_type": "code",
   "execution_count": 88,
   "metadata": {},
   "outputs": [
    {
     "data": {
      "text/plain": [
       "1232"
      ]
     },
     "execution_count": 88,
     "metadata": {},
     "output_type": "execute_result"
    }
   ],
   "source": [
    "a=data.top_domain_encoded.nunique()\n",
    "data.top_domain_encoded.nunique()"
   ]
  },
  {
   "cell_type": "code",
   "execution_count": 89,
   "metadata": {},
   "outputs": [
    {
     "data": {
      "text/plain": [
       "308783"
      ]
     },
     "execution_count": 89,
     "metadata": {},
     "output_type": "execute_result"
    }
   ],
   "source": [
    "b=data.domain_encoded.nunique()\n",
    "data.domain_encoded.nunique()"
   ]
  },
  {
   "cell_type": "code",
   "execution_count": 90,
   "metadata": {},
   "outputs": [
    {
     "data": {
      "text/plain": [
       "111204"
      ]
     },
     "execution_count": 90,
     "metadata": {},
     "output_type": "execute_result"
    }
   ],
   "source": [
    "c=data.subdomain_encoded.nunique()\n",
    "data.subdomain_encoded.nunique()"
   ]
  },
  {
   "cell_type": "code",
   "execution_count": 91,
   "metadata": {},
   "outputs": [
    {
     "data": {
      "text/plain": [
       "421219"
      ]
     },
     "execution_count": 91,
     "metadata": {},
     "output_type": "execute_result"
    }
   ],
   "source": [
    "d=a+b+c\n",
    "d"
   ]
  },
  {
   "cell_type": "code",
   "execution_count": 92,
   "metadata": {},
   "outputs": [
    {
     "data": {
      "text/html": [
       "<div>\n",
       "<style scoped>\n",
       "    .dataframe tbody tr th:only-of-type {\n",
       "        vertical-align: middle;\n",
       "    }\n",
       "\n",
       "    .dataframe tbody tr th {\n",
       "        vertical-align: top;\n",
       "    }\n",
       "\n",
       "    .dataframe thead th {\n",
       "        text-align: right;\n",
       "    }\n",
       "</style>\n",
       "<table border=\"1\" class=\"dataframe\">\n",
       "  <thead>\n",
       "    <tr style=\"text-align: right;\">\n",
       "      <th></th>\n",
       "      <th>status</th>\n",
       "      <th>url_length</th>\n",
       "      <th>num_special_chars</th>\n",
       "      <th>num_digits</th>\n",
       "      <th>num_dots</th>\n",
       "      <th>num_slash</th>\n",
       "      <th>num_and</th>\n",
       "      <th>num_percent</th>\n",
       "      <th>domain_length</th>\n",
       "      <th>num_digits_in_domain</th>\n",
       "      <th>num_subdomains</th>\n",
       "      <th>is_HTTPS</th>\n",
       "      <th>depth</th>\n",
       "      <th>subdomain_digits</th>\n",
       "      <th>top_domain_encoded</th>\n",
       "      <th>domain_encoded</th>\n",
       "      <th>subdomain_encoded</th>\n",
       "    </tr>\n",
       "  </thead>\n",
       "  <tbody>\n",
       "    <tr>\n",
       "      <th>0</th>\n",
       "      <td>0</td>\n",
       "      <td>39</td>\n",
       "      <td>0</td>\n",
       "      <td>7</td>\n",
       "      <td>2</td>\n",
       "      <td>0</td>\n",
       "      <td>0</td>\n",
       "      <td>0</td>\n",
       "      <td>12</td>\n",
       "      <td>0</td>\n",
       "      <td>1</td>\n",
       "      <td>0</td>\n",
       "      <td>1</td>\n",
       "      <td>7</td>\n",
       "      <td>225</td>\n",
       "      <td>111707</td>\n",
       "      <td>17</td>\n",
       "    </tr>\n",
       "    <tr>\n",
       "      <th>1</th>\n",
       "      <td>0</td>\n",
       "      <td>36</td>\n",
       "      <td>0</td>\n",
       "      <td>6</td>\n",
       "      <td>2</td>\n",
       "      <td>0</td>\n",
       "      <td>0</td>\n",
       "      <td>0</td>\n",
       "      <td>12</td>\n",
       "      <td>0</td>\n",
       "      <td>1</td>\n",
       "      <td>0</td>\n",
       "      <td>1</td>\n",
       "      <td>6</td>\n",
       "      <td>225</td>\n",
       "      <td>111707</td>\n",
       "      <td>18</td>\n",
       "    </tr>\n",
       "    <tr>\n",
       "      <th>2</th>\n",
       "      <td>0</td>\n",
       "      <td>12</td>\n",
       "      <td>0</td>\n",
       "      <td>5</td>\n",
       "      <td>1</td>\n",
       "      <td>0</td>\n",
       "      <td>0</td>\n",
       "      <td>0</td>\n",
       "      <td>5</td>\n",
       "      <td>5</td>\n",
       "      <td>0</td>\n",
       "      <td>0</td>\n",
       "      <td>1</td>\n",
       "      <td>0</td>\n",
       "      <td>878</td>\n",
       "      <td>10</td>\n",
       "      <td>111203</td>\n",
       "    </tr>\n",
       "    <tr>\n",
       "      <th>3</th>\n",
       "      <td>0</td>\n",
       "      <td>35</td>\n",
       "      <td>0</td>\n",
       "      <td>4</td>\n",
       "      <td>2</td>\n",
       "      <td>0</td>\n",
       "      <td>0</td>\n",
       "      <td>0</td>\n",
       "      <td>12</td>\n",
       "      <td>0</td>\n",
       "      <td>1</td>\n",
       "      <td>0</td>\n",
       "      <td>1</td>\n",
       "      <td>4</td>\n",
       "      <td>225</td>\n",
       "      <td>111707</td>\n",
       "      <td>25</td>\n",
       "    </tr>\n",
       "    <tr>\n",
       "      <th>4</th>\n",
       "      <td>0</td>\n",
       "      <td>20</td>\n",
       "      <td>0</td>\n",
       "      <td>5</td>\n",
       "      <td>2</td>\n",
       "      <td>0</td>\n",
       "      <td>0</td>\n",
       "      <td>0</td>\n",
       "      <td>8</td>\n",
       "      <td>0</td>\n",
       "      <td>1</td>\n",
       "      <td>0</td>\n",
       "      <td>1</td>\n",
       "      <td>5</td>\n",
       "      <td>225</td>\n",
       "      <td>291146</td>\n",
       "      <td>29</td>\n",
       "    </tr>\n",
       "  </tbody>\n",
       "</table>\n",
       "</div>"
      ],
      "text/plain": [
       "   status  url_length  ...  domain_encoded  subdomain_encoded\n",
       "0       0          39  ...          111707                 17\n",
       "1       0          36  ...          111707                 18\n",
       "2       0          12  ...              10             111203\n",
       "3       0          35  ...          111707                 25\n",
       "4       0          20  ...          291146                 29\n",
       "\n",
       "[5 rows x 17 columns]"
      ]
     },
     "execution_count": 92,
     "metadata": {},
     "output_type": "execute_result"
    }
   ],
   "source": [
    "data.head()"
   ]
  },
  {
   "cell_type": "code",
   "execution_count": 93,
   "metadata": {},
   "outputs": [],
   "source": [
    "\n",
    "y=data['status']\n",
    "X=data.drop('status', axis=1)\n"
   ]
  },
  {
   "cell_type": "code",
   "execution_count": 94,
   "metadata": {},
   "outputs": [],
   "source": [
    "X_train, X_test, y_train,y_test = train_test_split(X,y,test_size=0.3,random_state=504)"
   ]
  },
  {
   "cell_type": "code",
   "execution_count": 95,
   "metadata": {},
   "outputs": [
    {
     "data": {
      "text/plain": [
       "(638770, 16)"
      ]
     },
     "execution_count": 95,
     "metadata": {},
     "output_type": "execute_result"
    }
   ],
   "source": [
    "X_train.shape"
   ]
  },
  {
   "cell_type": "code",
   "execution_count": 96,
   "metadata": {},
   "outputs": [
    {
     "data": {
      "text/plain": [
       "(159693, 16)"
      ]
     },
     "execution_count": 96,
     "metadata": {},
     "output_type": "execute_result"
    }
   ],
   "source": [
    "X_test.shape"
   ]
  },
  {
   "cell_type": "code",
   "execution_count": null,
   "metadata": {},
   "outputs": [],
   "source": []
  },
  {
   "cell_type": "markdown",
   "metadata": {},
   "source": [
    "## LSTM"
   ]
  },
  {
   "cell_type": "code",
   "execution_count": 97,
   "metadata": {},
   "outputs": [
    {
     "name": "stdout",
     "output_type": "stream",
     "text": [
      "Epoch 1/30\n"
     ]
    },
    {
     "name": "stdout",
     "output_type": "stream",
     "text": [
      "19962/19962 - 241s - 12ms/step - accuracy: 0.9289 - loss: 0.1823 - val_accuracy: 0.9546 - val_loss: 0.1207\n",
      "Epoch 2/30\n",
      "19962/19962 - 237s - 12ms/step - accuracy: 0.9946 - loss: 0.0289 - val_accuracy: 0.9321 - val_loss: 0.2387\n",
      "Epoch 3/30\n",
      "19962/19962 - 246s - 12ms/step - accuracy: 0.9973 - loss: 0.0163 - val_accuracy: 0.9250 - val_loss: 0.1765\n",
      "Epoch 4/30\n",
      "19962/19962 - 244s - 12ms/step - accuracy: 0.9979 - loss: 0.0124 - val_accuracy: 0.9496 - val_loss: 0.1359\n",
      "Epoch 4: early stopping\n",
      "Restoring model weights from the end of the best epoch: 1.\n"
     ]
    }
   ],
   "source": [
    "\n",
    "\n",
    "# Input layers for categorical and numeric features\n",
    "input_top = Input(shape=(1,), name='top_domain_encoded')\n",
    "input_domain = Input(shape=(1,), name='domain_encoded')\n",
    "input_sub = Input(shape=(1,), name='subdomain_encoded')\n",
    "input_https = Input(shape=(1,), name='is_HTTPS')\n",
    "input_numeric = Input(shape=(1,12), name='numeric_input')\n",
    "\n",
    "\n",
    "embedding_dim = 12\n",
    "embedded_tld = Embedding(input_dim=a, output_dim=embedding_dim)(input_top)\n",
    "embedded_domain = Embedding(input_dim=b, output_dim=embedding_dim)(input_domain)\n",
    "embedded_sub = Embedding(input_dim=c, output_dim=embedding_dim)(input_sub)\n",
    "embedded_https = Embedding(input_dim=2, output_dim=embedding_dim)(input_https)\n",
    "\n",
    "embedded_tld = Reshape((1, embedding_dim))(embedded_tld)\n",
    "embedded_domain = Reshape((1, embedding_dim))(embedded_domain)\n",
    "embedded_sub = Reshape((1, embedding_dim))(embedded_sub)\n",
    "embedded_https = Reshape((1, embedding_dim))(embedded_https)\n",
    "\n",
    "\n",
    "numeric_reshaped = Reshape((1, 12))(input_numeric)\n",
    "concat_embeds = Concatenate(axis=1)([embedded_tld, embedded_domain, embedded_sub, embedded_https, numeric_reshaped])\n",
    "\n",
    "lstm_out = LSTM(32, activation='relu')(concat_embeds)\n",
    "dropout = Dropout(0.4)(lstm_out)\n",
    "output = Dense(1, activation='sigmoid', kernel_regularizer='l1', bias_regularizer='l2')(dropout)\n",
    "\n",
    "model = Model(inputs=[input_top, input_domain, input_sub, input_https, input_numeric], outputs=output)\n",
    "\n",
    "model.compile(optimizer='adam', loss='binary_crossentropy', metrics=['accuracy'])\n",
    "\n",
    "early_stop = EarlyStopping(monitor='val_loss', patience=3, verbose=1, restore_best_weights=True)\n",
    "\n",
    "numeric = X_train.drop(['top_domain_encoded', 'domain_encoded', 'subdomain_encoded', 'is_HTTPS'], axis=1)\n",
    "\n",
    "numeric_reshaped_train = np.expand_dims(numeric, axis=1)\n",
    "numeric_reshaped_test = np.expand_dims(X_test.drop(['top_domain_encoded', 'domain_encoded', 'subdomain_encoded', 'is_HTTPS'], axis=1), axis=1)\n",
    "\n",
    "# Fit the model\n",
    "num_epochs = 30\n",
    "historyL = model.fit([X_train['top_domain_encoded'], X_train['domain_encoded'], \n",
    "                      X_train['subdomain_encoded'], X_train['is_HTTPS'], numeric_reshaped_train], \n",
    "                      y_train, epochs=num_epochs, \n",
    "                      validation_data=([X_test['top_domain_encoded'], X_test['domain_encoded'], \n",
    "                                        X_test['subdomain_encoded'], X_test['is_HTTPS'], numeric_reshaped_test], \n",
    "                                        y_test), \n",
    "                      callbacks=[early_stop], verbose=2)\n"
   ]
  },
  {
   "cell_type": "code",
   "execution_count": 107,
   "metadata": {},
   "outputs": [],
   "source": [
    "# tf.keras.backend.clear_session()\n",
    "# tf.random.set_seed(50)\n",
    "Lstm  = Sequential()\n",
    "Lstm.add(Embedding(b,8))\n",
    "Lstm.add(Dropout(0.2))\n",
    "Lstm.add(LSTM(128,return_state=False))\n",
    "Lstm.add(Dense(24,activation='relu'))\n",
    "Lstm.add(Dense(1,activation ='sigmoid',kernel_regularizer=l1(0.01), bias_regularizer=l2(0.01)))"
   ]
  },
  {
   "cell_type": "code",
   "execution_count": 108,
   "metadata": {},
   "outputs": [],
   "source": [
    "Lstm.compile(loss ='binary_crossentropy',optimizer='adam', metrics=['accuracy', 'precision', 'recall'])"
   ]
  },
  {
   "cell_type": "code",
   "execution_count": 109,
   "metadata": {},
   "outputs": [
    {
     "name": "stdout",
     "output_type": "stream",
     "text": [
      "Epoch 1/30\n"
     ]
    },
    {
     "name": "stdout",
     "output_type": "stream",
     "text": [
      "19962/19962 - 251s - 13ms/step - accuracy: 0.9294 - loss: 0.1654 - precision: 0.9236 - recall: 0.9461 - val_accuracy: 0.9572 - val_loss: 0.1067 - val_precision: 0.9679 - val_recall: 0.9515\n",
      "Epoch 2/30\n",
      "19962/19962 - 251s - 13ms/step - accuracy: 0.9820 - loss: 0.0513 - precision: 0.9835 - recall: 0.9828 - val_accuracy: 0.9538 - val_loss: 0.1148 - val_precision: 0.9584 - val_recall: 0.9550\n",
      "Epoch 3/30\n"
     ]
    }
   ],
   "source": [
    "num_epochs =30\n",
    "early_stop = EarlyStopping(monitor='val_loss',patience=3, verbose=1, restore_best_weights=True)\n",
    "historyL=Lstm.fit(X_train, y_train,epochs = num_epochs,validation_data=(X_test,y_test),callbacks =[early_stop],verbose =2)\n",
    "# around8 minutes an epeoch when split "
   ]
  }
 ],
 "metadata": {
  "kernelspec": {
   "display_name": "base",
   "language": "python",
   "name": "python3"
  },
  "language_info": {
   "codemirror_mode": {
    "name": "ipython",
    "version": 3
   },
   "file_extension": ".py",
   "mimetype": "text/x-python",
   "name": "python",
   "nbconvert_exporter": "python",
   "pygments_lexer": "ipython3",
   "version": "3.9.7"
  }
 },
 "nbformat": 4,
 "nbformat_minor": 2
}
