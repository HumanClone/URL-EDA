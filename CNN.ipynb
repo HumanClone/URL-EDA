{
 "cells": [
  {
   "cell_type": "markdown",
   "metadata": {},
   "source": [
    "## Imports"
   ]
  },
  {
   "cell_type": "code",
   "execution_count": 1,
   "metadata": {},
   "outputs": [
    {
     "name": "stderr",
     "output_type": "stream",
     "text": [
      "/home/lab_services_student/anaconda3/lib/python3.9/site-packages/scipy/__init__.py:146: UserWarning: A NumPy version >=1.16.5 and <1.23.0 is required for this version of SciPy (detected version 1.24.3\n",
      "  warnings.warn(f\"A NumPy version >={np_minversion} and <{np_maxversion}\"\n",
      "2024-10-13 11:13:23.315905: I tensorflow/core/util/port.cc:153] oneDNN custom operations are on. You may see slightly different numerical results due to floating-point round-off errors from different computation orders. To turn them off, set the environment variable `TF_ENABLE_ONEDNN_OPTS=0`.\n",
      "2024-10-13 11:13:23.317148: I external/local_xla/xla/tsl/cuda/cudart_stub.cc:32] Could not find cuda drivers on your machine, GPU will not be used.\n",
      "2024-10-13 11:13:23.320518: I external/local_xla/xla/tsl/cuda/cudart_stub.cc:32] Could not find cuda drivers on your machine, GPU will not be used.\n",
      "2024-10-13 11:13:24.472412: E external/local_xla/xla/stream_executor/cuda/cuda_fft.cc:485] Unable to register cuFFT factory: Attempting to register factory for plugin cuFFT when one has already been registered\n",
      "2024-10-13 11:13:25.243141: E external/local_xla/xla/stream_executor/cuda/cuda_dnn.cc:8454] Unable to register cuDNN factory: Attempting to register factory for plugin cuDNN when one has already been registered\n",
      "2024-10-13 11:13:25.496233: E external/local_xla/xla/stream_executor/cuda/cuda_blas.cc:1452] Unable to register cuBLAS factory: Attempting to register factory for plugin cuBLAS when one has already been registered\n",
      "2024-10-13 11:13:27.242304: I tensorflow/core/platform/cpu_feature_guard.cc:210] This TensorFlow binary is optimized to use available CPU instructions in performance-critical operations.\n",
      "To enable the following instructions: AVX2 AVX512F AVX512_VNNI FMA, in other operations, rebuild TensorFlow with the appropriate compiler flags.\n",
      "2024-10-13 11:13:30.829613: W tensorflow/compiler/tf2tensorrt/utils/py_utils.cc:38] TF-TRT Warning: Could not find TensorRT\n"
     ]
    }
   ],
   "source": [
    "import numpy as np\n",
    "import pandas as pd\n",
    "from sklearn.preprocessing import LabelEncoder\n",
    "from ipaddress import *\n",
    "import seaborn as sns\n",
    "import matplotlib.pyplot as plt\n",
    "from sklearn.preprocessing import StandardScaler\n",
    "from sklearn.feature_extraction.text import CountVectorizer, TfidfVectorizer\n",
    "from sklearn.model_selection import train_test_split\n",
    "from sklearn.metrics import accuracy_score, confusion_matrix, precision_score, recall_score,f1_score,auc,roc_curve,roc_auc_score, ConfusionMatrixDisplay\n",
    "from sklearn.metrics import classification_report\n",
    "from sklearn.ensemble import RandomForestClassifier\n",
    "from sklearn import svm\n",
    "import tensorflow as tf\n",
    "from tensorflow.keras.preprocessing.text import Tokenizer\n",
    "from tensorflow.keras.preprocessing.sequence import pad_sequences\n",
    "from tensorflow.keras.callbacks import EarlyStopping\n",
    "from tensorflow.keras.models import Sequential\n",
    "from tensorflow.keras.layers import SimpleRNN, Dense, Embedding, Dropout, Flatten, SpatialDropout1D, LSTM,Input, concatenate, Reshape, InputLayer, Conv1D, MaxPooling1D, Flatten\n",
    "from tensorflow.keras.regularizers import l1, l2, l1_l2\n",
    "import keras\n",
    "import re\n",
    "import tldextract\n",
    "import warnings\n",
    "warnings.filterwarnings(\"ignore\")\n",
    "sns.set_style(style='white') "
   ]
  },
  {
   "cell_type": "markdown",
   "metadata": {},
   "source": [
    "## Data Transforming"
   ]
  },
  {
   "cell_type": "code",
   "execution_count": 2,
   "metadata": {},
   "outputs": [],
   "source": [
    "\n",
    "data=pd.read_csv('cleaned_data.csv')\n",
    "df=data[['url','status']]\n",
    "data=data.drop('url',axis=1)"
   ]
  },
  {
   "cell_type": "code",
   "execution_count": 3,
   "metadata": {},
   "outputs": [
    {
     "data": {
      "text/html": [
       "<div>\n",
       "<style scoped>\n",
       "    .dataframe tbody tr th:only-of-type {\n",
       "        vertical-align: middle;\n",
       "    }\n",
       "\n",
       "    .dataframe tbody tr th {\n",
       "        vertical-align: top;\n",
       "    }\n",
       "\n",
       "    .dataframe thead th {\n",
       "        text-align: right;\n",
       "    }\n",
       "</style>\n",
       "<table border=\"1\" class=\"dataframe\">\n",
       "  <thead>\n",
       "    <tr style=\"text-align: right;\">\n",
       "      <th></th>\n",
       "      <th>status</th>\n",
       "      <th>url_length</th>\n",
       "      <th>num_special_chars</th>\n",
       "      <th>num_digits</th>\n",
       "      <th>num_dots</th>\n",
       "      <th>num_slash</th>\n",
       "      <th>num_and</th>\n",
       "      <th>num_percent</th>\n",
       "      <th>domain_length</th>\n",
       "      <th>num_digits_in_domain</th>\n",
       "      <th>has_subdomain</th>\n",
       "      <th>is_HTTPS</th>\n",
       "      <th>depth</th>\n",
       "      <th>top_domain_encoded</th>\n",
       "      <th>domain_encoded</th>\n",
       "    </tr>\n",
       "  </thead>\n",
       "  <tbody>\n",
       "    <tr>\n",
       "      <th>0</th>\n",
       "      <td>0</td>\n",
       "      <td>39</td>\n",
       "      <td>0</td>\n",
       "      <td>7</td>\n",
       "      <td>2</td>\n",
       "      <td>0</td>\n",
       "      <td>0</td>\n",
       "      <td>0</td>\n",
       "      <td>12</td>\n",
       "      <td>0</td>\n",
       "      <td>1</td>\n",
       "      <td>0</td>\n",
       "      <td>1</td>\n",
       "      <td>225</td>\n",
       "      <td>111707</td>\n",
       "    </tr>\n",
       "    <tr>\n",
       "      <th>1</th>\n",
       "      <td>0</td>\n",
       "      <td>36</td>\n",
       "      <td>0</td>\n",
       "      <td>6</td>\n",
       "      <td>2</td>\n",
       "      <td>0</td>\n",
       "      <td>0</td>\n",
       "      <td>0</td>\n",
       "      <td>12</td>\n",
       "      <td>0</td>\n",
       "      <td>1</td>\n",
       "      <td>0</td>\n",
       "      <td>1</td>\n",
       "      <td>225</td>\n",
       "      <td>111707</td>\n",
       "    </tr>\n",
       "    <tr>\n",
       "      <th>2</th>\n",
       "      <td>0</td>\n",
       "      <td>12</td>\n",
       "      <td>0</td>\n",
       "      <td>5</td>\n",
       "      <td>1</td>\n",
       "      <td>0</td>\n",
       "      <td>0</td>\n",
       "      <td>0</td>\n",
       "      <td>5</td>\n",
       "      <td>5</td>\n",
       "      <td>0</td>\n",
       "      <td>0</td>\n",
       "      <td>1</td>\n",
       "      <td>878</td>\n",
       "      <td>10</td>\n",
       "    </tr>\n",
       "    <tr>\n",
       "      <th>3</th>\n",
       "      <td>0</td>\n",
       "      <td>35</td>\n",
       "      <td>0</td>\n",
       "      <td>4</td>\n",
       "      <td>2</td>\n",
       "      <td>0</td>\n",
       "      <td>0</td>\n",
       "      <td>0</td>\n",
       "      <td>12</td>\n",
       "      <td>0</td>\n",
       "      <td>1</td>\n",
       "      <td>0</td>\n",
       "      <td>1</td>\n",
       "      <td>225</td>\n",
       "      <td>111707</td>\n",
       "    </tr>\n",
       "    <tr>\n",
       "      <th>4</th>\n",
       "      <td>0</td>\n",
       "      <td>20</td>\n",
       "      <td>0</td>\n",
       "      <td>5</td>\n",
       "      <td>2</td>\n",
       "      <td>0</td>\n",
       "      <td>0</td>\n",
       "      <td>0</td>\n",
       "      <td>8</td>\n",
       "      <td>0</td>\n",
       "      <td>1</td>\n",
       "      <td>0</td>\n",
       "      <td>1</td>\n",
       "      <td>225</td>\n",
       "      <td>291146</td>\n",
       "    </tr>\n",
       "    <tr>\n",
       "      <th>...</th>\n",
       "      <td>...</td>\n",
       "      <td>...</td>\n",
       "      <td>...</td>\n",
       "      <td>...</td>\n",
       "      <td>...</td>\n",
       "      <td>...</td>\n",
       "      <td>...</td>\n",
       "      <td>...</td>\n",
       "      <td>...</td>\n",
       "      <td>...</td>\n",
       "      <td>...</td>\n",
       "      <td>...</td>\n",
       "      <td>...</td>\n",
       "      <td>...</td>\n",
       "      <td>...</td>\n",
       "    </tr>\n",
       "    <tr>\n",
       "      <th>798458</th>\n",
       "      <td>0</td>\n",
       "      <td>9</td>\n",
       "      <td>0</td>\n",
       "      <td>0</td>\n",
       "      <td>1</td>\n",
       "      <td>0</td>\n",
       "      <td>0</td>\n",
       "      <td>0</td>\n",
       "      <td>5</td>\n",
       "      <td>0</td>\n",
       "      <td>0</td>\n",
       "      <td>0</td>\n",
       "      <td>1</td>\n",
       "      <td>225</td>\n",
       "      <td>308751</td>\n",
       "    </tr>\n",
       "    <tr>\n",
       "      <th>798459</th>\n",
       "      <td>0</td>\n",
       "      <td>6</td>\n",
       "      <td>0</td>\n",
       "      <td>0</td>\n",
       "      <td>1</td>\n",
       "      <td>0</td>\n",
       "      <td>0</td>\n",
       "      <td>0</td>\n",
       "      <td>3</td>\n",
       "      <td>0</td>\n",
       "      <td>0</td>\n",
       "      <td>0</td>\n",
       "      <td>1</td>\n",
       "      <td>690</td>\n",
       "      <td>308750</td>\n",
       "    </tr>\n",
       "    <tr>\n",
       "      <th>798460</th>\n",
       "      <td>0</td>\n",
       "      <td>9</td>\n",
       "      <td>0</td>\n",
       "      <td>0</td>\n",
       "      <td>2</td>\n",
       "      <td>0</td>\n",
       "      <td>0</td>\n",
       "      <td>0</td>\n",
       "      <td>3</td>\n",
       "      <td>0</td>\n",
       "      <td>0</td>\n",
       "      <td>0</td>\n",
       "      <td>1</td>\n",
       "      <td>215</td>\n",
       "      <td>308771</td>\n",
       "    </tr>\n",
       "    <tr>\n",
       "      <th>798461</th>\n",
       "      <td>0</td>\n",
       "      <td>16</td>\n",
       "      <td>0</td>\n",
       "      <td>0</td>\n",
       "      <td>2</td>\n",
       "      <td>0</td>\n",
       "      <td>0</td>\n",
       "      <td>0</td>\n",
       "      <td>10</td>\n",
       "      <td>0</td>\n",
       "      <td>0</td>\n",
       "      <td>0</td>\n",
       "      <td>1</td>\n",
       "      <td>219</td>\n",
       "      <td>308776</td>\n",
       "    </tr>\n",
       "    <tr>\n",
       "      <th>798462</th>\n",
       "      <td>0</td>\n",
       "      <td>42</td>\n",
       "      <td>2</td>\n",
       "      <td>4</td>\n",
       "      <td>4</td>\n",
       "      <td>0</td>\n",
       "      <td>0</td>\n",
       "      <td>0</td>\n",
       "      <td>13</td>\n",
       "      <td>3</td>\n",
       "      <td>1</td>\n",
       "      <td>0</td>\n",
       "      <td>1</td>\n",
       "      <td>225</td>\n",
       "      <td>19</td>\n",
       "    </tr>\n",
       "  </tbody>\n",
       "</table>\n",
       "<p>798463 rows × 15 columns</p>\n",
       "</div>"
      ],
      "text/plain": [
       "        status  url_length  num_special_chars  num_digits  num_dots  \\\n",
       "0            0          39                  0           7         2   \n",
       "1            0          36                  0           6         2   \n",
       "2            0          12                  0           5         1   \n",
       "3            0          35                  0           4         2   \n",
       "4            0          20                  0           5         2   \n",
       "...        ...         ...                ...         ...       ...   \n",
       "798458       0           9                  0           0         1   \n",
       "798459       0           6                  0           0         1   \n",
       "798460       0           9                  0           0         2   \n",
       "798461       0          16                  0           0         2   \n",
       "798462       0          42                  2           4         4   \n",
       "\n",
       "        num_slash  num_and  num_percent  domain_length  num_digits_in_domain  \\\n",
       "0               0        0            0             12                     0   \n",
       "1               0        0            0             12                     0   \n",
       "2               0        0            0              5                     5   \n",
       "3               0        0            0             12                     0   \n",
       "4               0        0            0              8                     0   \n",
       "...           ...      ...          ...            ...                   ...   \n",
       "798458          0        0            0              5                     0   \n",
       "798459          0        0            0              3                     0   \n",
       "798460          0        0            0              3                     0   \n",
       "798461          0        0            0             10                     0   \n",
       "798462          0        0            0             13                     3   \n",
       "\n",
       "        has_subdomain  is_HTTPS  depth  top_domain_encoded  domain_encoded  \n",
       "0                   1         0      1                 225          111707  \n",
       "1                   1         0      1                 225          111707  \n",
       "2                   0         0      1                 878              10  \n",
       "3                   1         0      1                 225          111707  \n",
       "4                   1         0      1                 225          291146  \n",
       "...               ...       ...    ...                 ...             ...  \n",
       "798458              0         0      1                 225          308751  \n",
       "798459              0         0      1                 690          308750  \n",
       "798460              0         0      1                 215          308771  \n",
       "798461              0         0      1                 219          308776  \n",
       "798462              1         0      1                 225              19  \n",
       "\n",
       "[798463 rows x 15 columns]"
      ]
     },
     "execution_count": 3,
     "metadata": {},
     "output_type": "execute_result"
    }
   ],
   "source": [
    "data"
   ]
  },
  {
   "cell_type": "code",
   "execution_count": 4,
   "metadata": {},
   "outputs": [
    {
     "data": {
      "text/plain": [
       "1232"
      ]
     },
     "execution_count": 4,
     "metadata": {},
     "output_type": "execute_result"
    }
   ],
   "source": [
    "a=data.top_domain_encoded.nunique()\n",
    "data.top_domain_encoded.nunique()"
   ]
  },
  {
   "cell_type": "code",
   "execution_count": 5,
   "metadata": {},
   "outputs": [
    {
     "data": {
      "text/plain": [
       "308783"
      ]
     },
     "execution_count": 5,
     "metadata": {},
     "output_type": "execute_result"
    }
   ],
   "source": [
    "b=data.domain_encoded.nunique()\n",
    "data.domain_encoded.nunique()"
   ]
  },
  {
   "cell_type": "code",
   "execution_count": 6,
   "metadata": {},
   "outputs": [],
   "source": [
    "# c=data.subdomain_encoded.nunique()\n",
    "# data.subdomain_encoded.nunique()"
   ]
  },
  {
   "cell_type": "code",
   "execution_count": 7,
   "metadata": {},
   "outputs": [
    {
     "data": {
      "text/plain": [
       "310015"
      ]
     },
     "execution_count": 7,
     "metadata": {},
     "output_type": "execute_result"
    }
   ],
   "source": [
    "d=a+b\n",
    "d"
   ]
  },
  {
   "cell_type": "code",
   "execution_count": 8,
   "metadata": {},
   "outputs": [
    {
     "data": {
      "text/html": [
       "<div>\n",
       "<style scoped>\n",
       "    .dataframe tbody tr th:only-of-type {\n",
       "        vertical-align: middle;\n",
       "    }\n",
       "\n",
       "    .dataframe tbody tr th {\n",
       "        vertical-align: top;\n",
       "    }\n",
       "\n",
       "    .dataframe thead th {\n",
       "        text-align: right;\n",
       "    }\n",
       "</style>\n",
       "<table border=\"1\" class=\"dataframe\">\n",
       "  <thead>\n",
       "    <tr style=\"text-align: right;\">\n",
       "      <th></th>\n",
       "      <th>status</th>\n",
       "      <th>url_length</th>\n",
       "      <th>num_special_chars</th>\n",
       "      <th>num_digits</th>\n",
       "      <th>num_dots</th>\n",
       "      <th>num_slash</th>\n",
       "      <th>num_and</th>\n",
       "      <th>num_percent</th>\n",
       "      <th>domain_length</th>\n",
       "      <th>num_digits_in_domain</th>\n",
       "      <th>has_subdomain</th>\n",
       "      <th>is_HTTPS</th>\n",
       "      <th>depth</th>\n",
       "      <th>top_domain_encoded</th>\n",
       "      <th>domain_encoded</th>\n",
       "    </tr>\n",
       "  </thead>\n",
       "  <tbody>\n",
       "    <tr>\n",
       "      <th>0</th>\n",
       "      <td>0</td>\n",
       "      <td>39</td>\n",
       "      <td>0</td>\n",
       "      <td>7</td>\n",
       "      <td>2</td>\n",
       "      <td>0</td>\n",
       "      <td>0</td>\n",
       "      <td>0</td>\n",
       "      <td>12</td>\n",
       "      <td>0</td>\n",
       "      <td>1</td>\n",
       "      <td>0</td>\n",
       "      <td>1</td>\n",
       "      <td>225</td>\n",
       "      <td>111707</td>\n",
       "    </tr>\n",
       "    <tr>\n",
       "      <th>1</th>\n",
       "      <td>0</td>\n",
       "      <td>36</td>\n",
       "      <td>0</td>\n",
       "      <td>6</td>\n",
       "      <td>2</td>\n",
       "      <td>0</td>\n",
       "      <td>0</td>\n",
       "      <td>0</td>\n",
       "      <td>12</td>\n",
       "      <td>0</td>\n",
       "      <td>1</td>\n",
       "      <td>0</td>\n",
       "      <td>1</td>\n",
       "      <td>225</td>\n",
       "      <td>111707</td>\n",
       "    </tr>\n",
       "    <tr>\n",
       "      <th>2</th>\n",
       "      <td>0</td>\n",
       "      <td>12</td>\n",
       "      <td>0</td>\n",
       "      <td>5</td>\n",
       "      <td>1</td>\n",
       "      <td>0</td>\n",
       "      <td>0</td>\n",
       "      <td>0</td>\n",
       "      <td>5</td>\n",
       "      <td>5</td>\n",
       "      <td>0</td>\n",
       "      <td>0</td>\n",
       "      <td>1</td>\n",
       "      <td>878</td>\n",
       "      <td>10</td>\n",
       "    </tr>\n",
       "    <tr>\n",
       "      <th>3</th>\n",
       "      <td>0</td>\n",
       "      <td>35</td>\n",
       "      <td>0</td>\n",
       "      <td>4</td>\n",
       "      <td>2</td>\n",
       "      <td>0</td>\n",
       "      <td>0</td>\n",
       "      <td>0</td>\n",
       "      <td>12</td>\n",
       "      <td>0</td>\n",
       "      <td>1</td>\n",
       "      <td>0</td>\n",
       "      <td>1</td>\n",
       "      <td>225</td>\n",
       "      <td>111707</td>\n",
       "    </tr>\n",
       "    <tr>\n",
       "      <th>4</th>\n",
       "      <td>0</td>\n",
       "      <td>20</td>\n",
       "      <td>0</td>\n",
       "      <td>5</td>\n",
       "      <td>2</td>\n",
       "      <td>0</td>\n",
       "      <td>0</td>\n",
       "      <td>0</td>\n",
       "      <td>8</td>\n",
       "      <td>0</td>\n",
       "      <td>1</td>\n",
       "      <td>0</td>\n",
       "      <td>1</td>\n",
       "      <td>225</td>\n",
       "      <td>291146</td>\n",
       "    </tr>\n",
       "  </tbody>\n",
       "</table>\n",
       "</div>"
      ],
      "text/plain": [
       "   status  url_length  num_special_chars  num_digits  num_dots  num_slash  \\\n",
       "0       0          39                  0           7         2          0   \n",
       "1       0          36                  0           6         2          0   \n",
       "2       0          12                  0           5         1          0   \n",
       "3       0          35                  0           4         2          0   \n",
       "4       0          20                  0           5         2          0   \n",
       "\n",
       "   num_and  num_percent  domain_length  num_digits_in_domain  has_subdomain  \\\n",
       "0        0            0             12                     0              1   \n",
       "1        0            0             12                     0              1   \n",
       "2        0            0              5                     5              0   \n",
       "3        0            0             12                     0              1   \n",
       "4        0            0              8                     0              1   \n",
       "\n",
       "   is_HTTPS  depth  top_domain_encoded  domain_encoded  \n",
       "0         0      1                 225          111707  \n",
       "1         0      1                 225          111707  \n",
       "2         0      1                 878              10  \n",
       "3         0      1                 225          111707  \n",
       "4         0      1                 225          291146  "
      ]
     },
     "execution_count": 8,
     "metadata": {},
     "output_type": "execute_result"
    }
   ],
   "source": [
    "data.head()"
   ]
  },
  {
   "cell_type": "code",
   "execution_count": 9,
   "metadata": {},
   "outputs": [],
   "source": [
    "y=data['status']\n",
    "vectorizer = TfidfVectorizer(analyzer='char')\n",
    "X=vectorizer.fit_transform(df.url)"
   ]
  },
  {
   "cell_type": "code",
   "execution_count": 10,
   "metadata": {},
   "outputs": [
    {
     "data": {
      "text/plain": [
       "(798463, 266)"
      ]
     },
     "execution_count": 10,
     "metadata": {},
     "output_type": "execute_result"
    }
   ],
   "source": [
    "X.shape"
   ]
  },
  {
   "cell_type": "code",
   "execution_count": null,
   "metadata": {},
   "outputs": [],
   "source": []
  },
  {
   "cell_type": "code",
   "execution_count": 11,
   "metadata": {},
   "outputs": [
    {
     "name": "stdout",
     "output_type": "stream",
     "text": [
      "(798463, 266)\n"
     ]
    }
   ],
   "source": [
    "X=X.toarray()\n",
    "print(X.shape)\n",
    "X=X.reshape(X.shape[0],14,19)"
   ]
  },
  {
   "cell_type": "code",
   "execution_count": 12,
   "metadata": {},
   "outputs": [
    {
     "data": {
      "text/plain": [
       "(638770, 14, 19)"
      ]
     },
     "execution_count": 12,
     "metadata": {},
     "output_type": "execute_result"
    }
   ],
   "source": [
    "X_train, X_test, y_train,y_test = train_test_split(X,y,test_size=0.2,random_state=54)\n",
    "X_train.shape\n"
   ]
  },
  {
   "cell_type": "code",
   "execution_count": 13,
   "metadata": {},
   "outputs": [],
   "source": [
    "# X_train = pad_sequences(X_train, padding='post', truncating='post')\n",
    "# X_test = pad_sequences(X_test, padding='post', truncating='post')"
   ]
  },
  {
   "cell_type": "markdown",
   "metadata": {},
   "source": [
    "## CNN"
   ]
  },
  {
   "cell_type": "code",
   "execution_count": 14,
   "metadata": {},
   "outputs": [],
   "source": [
    "tf.keras.backend.clear_session()\n",
    "tf.random.set_seed(50)"
   ]
  },
  {
   "cell_type": "code",
   "execution_count": 15,
   "metadata": {},
   "outputs": [],
   "source": [
    "cnn  = Sequential()\n",
    "cnn.add(Conv1D(128,(3), input_shape=(14,19), activation='relu'))\n",
    "cnn.add(Dropout(0.2))\n",
    "cnn.add(MaxPooling1D(pool_size=2))\n",
    "cnn.add(Flatten())\n",
    "cnn.add(Dense(24,activation='relu'))\n",
    "# cnn.add(Dense(1,activation ='sigmoid',kernel_regularizer=l1(0.01), bias_regularizer=l2(0.01)))\n",
    "cnn.add(Dense(1,activation ='sigmoid'))\n"
   ]
  },
  {
   "cell_type": "code",
   "execution_count": 16,
   "metadata": {},
   "outputs": [],
   "source": [
    "cnn.compile(loss ='binary_crossentropy',optimizer='adam', metrics=['accuracy', 'precision', 'recall'])"
   ]
  },
  {
   "cell_type": "code",
   "execution_count": 17,
   "metadata": {},
   "outputs": [
    {
     "name": "stdout",
     "output_type": "stream",
     "text": [
      "Epoch 1/50\n",
      "19962/19962 - 64s - 3ms/step - accuracy: 0.8986 - loss: 0.2475 - precision: 0.8853 - recall: 0.9311 - val_accuracy: 0.9173 - val_loss: 0.2074 - val_precision: 0.9007 - val_recall: 0.9499\n",
      "Epoch 2/50\n",
      "19962/19962 - 60s - 3ms/step - accuracy: 0.9146 - loss: 0.2118 - precision: 0.9021 - recall: 0.9426 - val_accuracy: 0.9222 - val_loss: 0.1964 - val_precision: 0.9099 - val_recall: 0.9483\n",
      "Epoch 3/50\n",
      "19962/19962 - 60s - 3ms/step - accuracy: 0.9187 - loss: 0.2017 - precision: 0.9066 - recall: 0.9455 - val_accuracy: 0.9245 - val_loss: 0.1891 - val_precision: 0.9199 - val_recall: 0.9405\n",
      "Epoch 4/50\n",
      "19962/19962 - 60s - 3ms/step - accuracy: 0.9215 - loss: 0.1952 - precision: 0.9100 - recall: 0.9468 - val_accuracy: 0.9266 - val_loss: 0.1835 - val_precision: 0.9151 - val_recall: 0.9509\n",
      "Epoch 5/50\n",
      "19962/19962 - 61s - 3ms/step - accuracy: 0.9233 - loss: 0.1915 - precision: 0.9123 - recall: 0.9477 - val_accuracy: 0.9279 - val_loss: 0.1814 - val_precision: 0.9199 - val_recall: 0.9475\n",
      "Epoch 6/50\n",
      "19962/19962 - 59s - 3ms/step - accuracy: 0.9246 - loss: 0.1882 - precision: 0.9138 - recall: 0.9485 - val_accuracy: 0.9292 - val_loss: 0.1780 - val_precision: 0.9196 - val_recall: 0.9505\n",
      "Epoch 7/50\n",
      "19962/19962 - 93s - 5ms/step - accuracy: 0.9257 - loss: 0.1862 - precision: 0.9150 - recall: 0.9492 - val_accuracy: 0.9293 - val_loss: 0.1768 - val_precision: 0.9189 - val_recall: 0.9517\n",
      "Epoch 8/50\n",
      "19962/19962 - 93s - 5ms/step - accuracy: 0.9264 - loss: 0.1837 - precision: 0.9157 - recall: 0.9497 - val_accuracy: 0.9291 - val_loss: 0.1762 - val_precision: 0.9173 - val_recall: 0.9532\n",
      "Epoch 9/50\n",
      "19962/19962 - 130s - 7ms/step - accuracy: 0.9274 - loss: 0.1820 - precision: 0.9172 - recall: 0.9501 - val_accuracy: 0.9305 - val_loss: 0.1741 - val_precision: 0.9187 - val_recall: 0.9543\n",
      "Epoch 10/50\n",
      "19962/19962 - 82s - 4ms/step - accuracy: 0.9280 - loss: 0.1805 - precision: 0.9179 - recall: 0.9503 - val_accuracy: 0.9306 - val_loss: 0.1735 - val_precision: 0.9188 - val_recall: 0.9544\n",
      "Epoch 11/50\n",
      "19962/19962 - 91s - 5ms/step - accuracy: 0.9284 - loss: 0.1792 - precision: 0.9184 - recall: 0.9505 - val_accuracy: 0.9314 - val_loss: 0.1716 - val_precision: 0.9198 - val_recall: 0.9548\n",
      "Epoch 12/50\n",
      "19962/19962 - 133s - 7ms/step - accuracy: 0.9287 - loss: 0.1780 - precision: 0.9191 - recall: 0.9504 - val_accuracy: 0.9318 - val_loss: 0.1710 - val_precision: 0.9162 - val_recall: 0.9601\n",
      "Epoch 13/50\n",
      "19962/19962 - 83s - 4ms/step - accuracy: 0.9292 - loss: 0.1769 - precision: 0.9195 - recall: 0.9509 - val_accuracy: 0.9317 - val_loss: 0.1705 - val_precision: 0.9190 - val_recall: 0.9563\n",
      "Epoch 14/50\n",
      "19962/19962 - 77s - 4ms/step - accuracy: 0.9298 - loss: 0.1760 - precision: 0.9201 - recall: 0.9514 - val_accuracy: 0.9320 - val_loss: 0.1702 - val_precision: 0.9211 - val_recall: 0.9545\n",
      "Epoch 15/50\n",
      "19962/19962 - 82s - 4ms/step - accuracy: 0.9299 - loss: 0.1752 - precision: 0.9204 - recall: 0.9512 - val_accuracy: 0.9324 - val_loss: 0.1697 - val_precision: 0.9238 - val_recall: 0.9520\n",
      "Epoch 16/50\n",
      "19962/19962 - 78s - 4ms/step - accuracy: 0.9304 - loss: 0.1745 - precision: 0.9209 - recall: 0.9516 - val_accuracy: 0.9327 - val_loss: 0.1686 - val_precision: 0.9228 - val_recall: 0.9538\n",
      "Epoch 17/50\n",
      "19962/19962 - 83s - 4ms/step - accuracy: 0.9306 - loss: 0.1734 - precision: 0.9212 - recall: 0.9516 - val_accuracy: 0.9328 - val_loss: 0.1681 - val_precision: 0.9218 - val_recall: 0.9552\n",
      "Epoch 18/50\n",
      "19962/19962 - 138s - 7ms/step - accuracy: 0.9313 - loss: 0.1726 - precision: 0.9221 - recall: 0.9521 - val_accuracy: 0.9331 - val_loss: 0.1675 - val_precision: 0.9219 - val_recall: 0.9558\n",
      "Epoch 19/50\n",
      "19962/19962 - 84s - 4ms/step - accuracy: 0.9314 - loss: 0.1722 - precision: 0.9221 - recall: 0.9521 - val_accuracy: 0.9336 - val_loss: 0.1669 - val_precision: 0.9236 - val_recall: 0.9548\n",
      "Epoch 20/50\n",
      "19962/19962 - 138s - 7ms/step - accuracy: 0.9314 - loss: 0.1715 - precision: 0.9221 - recall: 0.9522 - val_accuracy: 0.9331 - val_loss: 0.1673 - val_precision: 0.9232 - val_recall: 0.9540\n",
      "Epoch 21/50\n",
      "19962/19962 - 76s - 4ms/step - accuracy: 0.9319 - loss: 0.1709 - precision: 0.9227 - recall: 0.9525 - val_accuracy: 0.9337 - val_loss: 0.1663 - val_precision: 0.9243 - val_recall: 0.9540\n",
      "Epoch 22/50\n",
      "19962/19962 - 83s - 4ms/step - accuracy: 0.9318 - loss: 0.1703 - precision: 0.9227 - recall: 0.9523 - val_accuracy: 0.9332 - val_loss: 0.1662 - val_precision: 0.9231 - val_recall: 0.9546\n",
      "Epoch 23/50\n",
      "19962/19962 - 136s - 7ms/step - accuracy: 0.9322 - loss: 0.1703 - precision: 0.9229 - recall: 0.9528 - val_accuracy: 0.9335 - val_loss: 0.1663 - val_precision: 0.9240 - val_recall: 0.9541\n",
      "Epoch 24/50\n",
      "19962/19962 - 82s - 4ms/step - accuracy: 0.9323 - loss: 0.1696 - precision: 0.9232 - recall: 0.9527 - val_accuracy: 0.9341 - val_loss: 0.1656 - val_precision: 0.9236 - val_recall: 0.9556\n",
      "Epoch 25/50\n",
      "19962/19962 - 77s - 4ms/step - accuracy: 0.9324 - loss: 0.1692 - precision: 0.9233 - recall: 0.9528 - val_accuracy: 0.9339 - val_loss: 0.1659 - val_precision: 0.9232 - val_recall: 0.9557\n",
      "Epoch 26/50\n",
      "19962/19962 - 80s - 4ms/step - accuracy: 0.9327 - loss: 0.1686 - precision: 0.9237 - recall: 0.9530 - val_accuracy: 0.9339 - val_loss: 0.1651 - val_precision: 0.9257 - val_recall: 0.9527\n",
      "Epoch 27/50\n",
      "19962/19962 - 84s - 4ms/step - accuracy: 0.9327 - loss: 0.1684 - precision: 0.9237 - recall: 0.9529 - val_accuracy: 0.9346 - val_loss: 0.1644 - val_precision: 0.9258 - val_recall: 0.9540\n",
      "Epoch 28/50\n",
      "19962/19962 - 84s - 4ms/step - accuracy: 0.9330 - loss: 0.1681 - precision: 0.9241 - recall: 0.9530 - val_accuracy: 0.9341 - val_loss: 0.1645 - val_precision: 0.9264 - val_recall: 0.9522\n",
      "Epoch 29/50\n",
      "19962/19962 - 74s - 4ms/step - accuracy: 0.9332 - loss: 0.1676 - precision: 0.9239 - recall: 0.9537 - val_accuracy: 0.9342 - val_loss: 0.1647 - val_precision: 0.9230 - val_recall: 0.9567\n",
      "Epoch 30/50\n",
      "19962/19962 - 84s - 4ms/step - accuracy: 0.9331 - loss: 0.1677 - precision: 0.9241 - recall: 0.9531 - val_accuracy: 0.9342 - val_loss: 0.1649 - val_precision: 0.9248 - val_recall: 0.9545\n",
      "Epoch 30: early stopping\n",
      "Restoring model weights from the end of the best epoch: 27.\n"
     ]
    }
   ],
   "source": [
    "num_epochs =50\n",
    "early_stop = EarlyStopping(monitor='val_loss',patience=3, verbose=1, restore_best_weights=True)\n",
    "historyC=cnn.fit(X_train, y_train,epochs = num_epochs,validation_data=(X_test,y_test),callbacks =[early_stop],verbose =2)\n"
   ]
  },
  {
   "cell_type": "code",
   "execution_count": 18,
   "metadata": {},
   "outputs": [
    {
     "name": "stdout",
     "output_type": "stream",
     "text": [
      "4991/4991 - 9s - 2ms/step - accuracy: 0.9346 - loss: 0.1644 - precision: 0.9258 - recall: 0.9540\n",
      "\u001b[1m4991/4991\u001b[0m \u001b[32m━━━━━━━━━━━━━━━━━━━━\u001b[0m\u001b[37m\u001b[0m \u001b[1m9s\u001b[0m 2ms/step\n",
      "Restored Model Test Loss: 0.16442710161209106\n",
      "Restored Model Test Accuracy: 0.9345807433128357\n",
      "Restored Model Test Precision: 0.9258096218109131\n",
      "Restored Model Test Recall: 0.9539924263954163\n",
      "F1 Score: 0.9396897604793877\n",
      "ROC-AUC Score: 0.9823674967982562\n"
     ]
    }
   ],
   "source": [
    "results = cnn.evaluate(X_test, y_test, verbose=2)\n",
    "y_pred_prob = cnn.predict(X_test)  # Get the predicted probabilities\n",
    "y_pred = (y_pred_prob > 0.5).astype(int)  \n",
    "f1 = f1_score(y_test, y_pred)\n",
    "roc_auc = roc_auc_score(y_test, y_pred_prob)  \n",
    "# Assuming you compiled with accuracy, precision, and recall\n",
    "print(f\"Restored Model Test Loss: {results[0]}\")\n",
    "print(f\"Restored Model Test Accuracy: {results[1]}\")\n",
    "print(f\"Restored Model Test Precision: {results[2]}\")\n",
    "print(f\"Restored Model Test Recall: {results[3]}\")\n",
    "print(f\"F1 Score: {f1}\")\n",
    "print(f\"ROC-AUC Score: {roc_auc}\")"
   ]
  }
 ],
 "metadata": {
  "kernelspec": {
   "display_name": "base",
   "language": "python",
   "name": "python3"
  },
  "language_info": {
   "codemirror_mode": {
    "name": "ipython",
    "version": 3
   },
   "file_extension": ".py",
   "mimetype": "text/x-python",
   "name": "python",
   "nbconvert_exporter": "python",
   "pygments_lexer": "ipython3",
   "version": "3.9.7"
  }
 },
 "nbformat": 4,
 "nbformat_minor": 2
}
