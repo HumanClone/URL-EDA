{
 "cells": [
  {
   "cell_type": "markdown",
   "metadata": {},
   "source": [
    "## Imports"
   ]
  },
  {
   "cell_type": "code",
   "execution_count": 1,
   "metadata": {},
   "outputs": [
    {
     "name": "stderr",
     "output_type": "stream",
     "text": [
      "/home/lab_services_student/anaconda3/lib/python3.9/site-packages/scipy/__init__.py:146: UserWarning: A NumPy version >=1.16.5 and <1.23.0 is required for this version of SciPy (detected version 1.24.3\n",
      "  warnings.warn(f\"A NumPy version >={np_minversion} and <{np_maxversion}\"\n",
      "2024-09-19 13:13:22.523315: I tensorflow/core/util/port.cc:153] oneDNN custom operations are on. You may see slightly different numerical results due to floating-point round-off errors from different computation orders. To turn them off, set the environment variable `TF_ENABLE_ONEDNN_OPTS=0`.\n",
      "2024-09-19 13:13:22.524776: I external/local_xla/xla/tsl/cuda/cudart_stub.cc:32] Could not find cuda drivers on your machine, GPU will not be used.\n",
      "2024-09-19 13:13:22.530237: I external/local_xla/xla/tsl/cuda/cudart_stub.cc:32] Could not find cuda drivers on your machine, GPU will not be used.\n",
      "2024-09-19 13:13:22.547102: E external/local_xla/xla/stream_executor/cuda/cuda_fft.cc:485] Unable to register cuFFT factory: Attempting to register factory for plugin cuFFT when one has already been registered\n",
      "2024-09-19 13:13:22.573347: E external/local_xla/xla/stream_executor/cuda/cuda_dnn.cc:8454] Unable to register cuDNN factory: Attempting to register factory for plugin cuDNN when one has already been registered\n",
      "2024-09-19 13:13:22.581906: E external/local_xla/xla/stream_executor/cuda/cuda_blas.cc:1452] Unable to register cuBLAS factory: Attempting to register factory for plugin cuBLAS when one has already been registered\n",
      "2024-09-19 13:13:22.603509: I tensorflow/core/platform/cpu_feature_guard.cc:210] This TensorFlow binary is optimized to use available CPU instructions in performance-critical operations.\n",
      "To enable the following instructions: AVX2 AVX512F AVX512_VNNI FMA, in other operations, rebuild TensorFlow with the appropriate compiler flags.\n",
      "2024-09-19 13:13:24.150858: W tensorflow/compiler/tf2tensorrt/utils/py_utils.cc:38] TF-TRT Warning: Could not find TensorRT\n"
     ]
    }
   ],
   "source": [
    "import numpy as np\n",
    "import pandas as pd\n",
    "from sklearn.preprocessing import LabelEncoder\n",
    "from ipaddress import *\n",
    "import seaborn as sns\n",
    "import matplotlib.pyplot as plt\n",
    "from sklearn.feature_extraction.text import CountVectorizer, TfidfVectorizer\n",
    "from sklearn.model_selection import train_test_split\n",
    "from sklearn.metrics import accuracy_score, confusion_matrix, precision_score, recall_score, ConfusionMatrixDisplay\n",
    "from sklearn.metrics import classification_report\n",
    "from sklearn.ensemble import RandomForestClassifier\n",
    "from sklearn.linear_model import SGDClassifier\n",
    "from sklearn import svm\n",
    "import tensorflow as tf\n",
    "from tensorflow.keras.preprocessing.text import Tokenizer\n",
    "from tensorflow.keras.preprocessing.sequence import pad_sequences\n",
    "from tensorflow.keras.callbacks import EarlyStopping\n",
    "from tensorflow.keras.models import Sequential\n",
    "from tensorflow.keras.layers import SimpleRNN, Dense, Embedding, Dropout, Flatten, SpatialDropout1D, LSTM,Input, concatenate, Reshape, InputLayer, Conv1D, MaxPooling1D, Flatten\n",
    "from tensorflow.keras.regularizers import l1, l2, l1_l2\n",
    "import re\n",
    "import tldextract\n",
    "import warnings\n",
    "warnings.filterwarnings(\"ignore\")\n",
    "sns.set_style(style='white') \n",
    "from sklearn.svm import LinearSVC"
   ]
  },
  {
   "cell_type": "code",
   "execution_count": null,
   "metadata": {},
   "outputs": [],
   "source": []
  },
  {
   "cell_type": "markdown",
   "metadata": {},
   "source": [
    "## Data Transforming"
   ]
  },
  {
   "cell_type": "code",
   "execution_count": 2,
   "metadata": {},
   "outputs": [],
   "source": [
    "\n",
    "data=pd.read_csv('cleaned_data.csv')\n",
    "df=data[['url','status']]"
   ]
  },
  {
   "cell_type": "code",
   "execution_count": 3,
   "metadata": {},
   "outputs": [
    {
     "data": {
      "text/html": [
       "<div>\n",
       "<style scoped>\n",
       "    .dataframe tbody tr th:only-of-type {\n",
       "        vertical-align: middle;\n",
       "    }\n",
       "\n",
       "    .dataframe tbody tr th {\n",
       "        vertical-align: top;\n",
       "    }\n",
       "\n",
       "    .dataframe thead th {\n",
       "        text-align: right;\n",
       "    }\n",
       "</style>\n",
       "<table border=\"1\" class=\"dataframe\">\n",
       "  <thead>\n",
       "    <tr style=\"text-align: right;\">\n",
       "      <th></th>\n",
       "      <th>url</th>\n",
       "      <th>status</th>\n",
       "      <th>url_length</th>\n",
       "      <th>class</th>\n",
       "      <th>num_special_chars</th>\n",
       "      <th>num_digits</th>\n",
       "      <th>num_dots</th>\n",
       "      <th>num_slash</th>\n",
       "      <th>num_and</th>\n",
       "      <th>num_percent</th>\n",
       "      <th>...</th>\n",
       "      <th>num_digits_in_domain</th>\n",
       "      <th>subdomain</th>\n",
       "      <th>num_subdomains</th>\n",
       "      <th>pcount</th>\n",
       "      <th>top_domain</th>\n",
       "      <th>ptld</th>\n",
       "      <th>spl</th>\n",
       "      <th>is_HTTPS</th>\n",
       "      <th>depth</th>\n",
       "      <th>subdomain_digits</th>\n",
       "    </tr>\n",
       "  </thead>\n",
       "  <tbody>\n",
       "    <tr>\n",
       "      <th>0</th>\n",
       "      <td>0000111servicehelpdesk.godaddysites.com</td>\n",
       "      <td>0</td>\n",
       "      <td>39</td>\n",
       "      <td>phishing</td>\n",
       "      <td>0</td>\n",
       "      <td>7</td>\n",
       "      <td>2</td>\n",
       "      <td>0</td>\n",
       "      <td>0</td>\n",
       "      <td>0</td>\n",
       "      <td>...</td>\n",
       "      <td>0</td>\n",
       "      <td>0000111servicehelpdesk</td>\n",
       "      <td>1</td>\n",
       "      <td>2</td>\n",
       "      <td>com</td>\n",
       "      <td>1</td>\n",
       "      <td>3</td>\n",
       "      <td>0</td>\n",
       "      <td>1</td>\n",
       "      <td>7</td>\n",
       "    </tr>\n",
       "    <tr>\n",
       "      <th>1</th>\n",
       "      <td>000011accesswebform.godaddysites.com</td>\n",
       "      <td>0</td>\n",
       "      <td>36</td>\n",
       "      <td>phishing</td>\n",
       "      <td>0</td>\n",
       "      <td>6</td>\n",
       "      <td>2</td>\n",
       "      <td>0</td>\n",
       "      <td>0</td>\n",
       "      <td>0</td>\n",
       "      <td>...</td>\n",
       "      <td>0</td>\n",
       "      <td>000011accesswebform</td>\n",
       "      <td>1</td>\n",
       "      <td>2</td>\n",
       "      <td>com</td>\n",
       "      <td>1</td>\n",
       "      <td>3</td>\n",
       "      <td>0</td>\n",
       "      <td>1</td>\n",
       "      <td>6</td>\n",
       "    </tr>\n",
       "    <tr>\n",
       "      <th>2</th>\n",
       "      <td>00003.online</td>\n",
       "      <td>0</td>\n",
       "      <td>12</td>\n",
       "      <td>phishing</td>\n",
       "      <td>0</td>\n",
       "      <td>5</td>\n",
       "      <td>1</td>\n",
       "      <td>0</td>\n",
       "      <td>0</td>\n",
       "      <td>0</td>\n",
       "      <td>...</td>\n",
       "      <td>5</td>\n",
       "      <td>0</td>\n",
       "      <td>0</td>\n",
       "      <td>1</td>\n",
       "      <td>online</td>\n",
       "      <td>1</td>\n",
       "      <td>2</td>\n",
       "      <td>0</td>\n",
       "      <td>1</td>\n",
       "      <td>0</td>\n",
       "    </tr>\n",
       "    <tr>\n",
       "      <th>3</th>\n",
       "      <td>0009servicedeskowa.godaddysites.com</td>\n",
       "      <td>0</td>\n",
       "      <td>35</td>\n",
       "      <td>phishing</td>\n",
       "      <td>0</td>\n",
       "      <td>4</td>\n",
       "      <td>2</td>\n",
       "      <td>0</td>\n",
       "      <td>0</td>\n",
       "      <td>0</td>\n",
       "      <td>...</td>\n",
       "      <td>0</td>\n",
       "      <td>0009servicedeskowa</td>\n",
       "      <td>1</td>\n",
       "      <td>2</td>\n",
       "      <td>com</td>\n",
       "      <td>1</td>\n",
       "      <td>3</td>\n",
       "      <td>0</td>\n",
       "      <td>1</td>\n",
       "      <td>4</td>\n",
       "    </tr>\n",
       "    <tr>\n",
       "      <th>4</th>\n",
       "      <td>000n38p.wcomhost.com</td>\n",
       "      <td>0</td>\n",
       "      <td>20</td>\n",
       "      <td>phishing</td>\n",
       "      <td>0</td>\n",
       "      <td>5</td>\n",
       "      <td>2</td>\n",
       "      <td>0</td>\n",
       "      <td>0</td>\n",
       "      <td>0</td>\n",
       "      <td>...</td>\n",
       "      <td>0</td>\n",
       "      <td>000n38p</td>\n",
       "      <td>1</td>\n",
       "      <td>2</td>\n",
       "      <td>com</td>\n",
       "      <td>1</td>\n",
       "      <td>3</td>\n",
       "      <td>0</td>\n",
       "      <td>1</td>\n",
       "      <td>5</td>\n",
       "    </tr>\n",
       "    <tr>\n",
       "      <th>...</th>\n",
       "      <td>...</td>\n",
       "      <td>...</td>\n",
       "      <td>...</td>\n",
       "      <td>...</td>\n",
       "      <td>...</td>\n",
       "      <td>...</td>\n",
       "      <td>...</td>\n",
       "      <td>...</td>\n",
       "      <td>...</td>\n",
       "      <td>...</td>\n",
       "      <td>...</td>\n",
       "      <td>...</td>\n",
       "      <td>...</td>\n",
       "      <td>...</td>\n",
       "      <td>...</td>\n",
       "      <td>...</td>\n",
       "      <td>...</td>\n",
       "      <td>...</td>\n",
       "      <td>...</td>\n",
       "      <td>...</td>\n",
       "      <td>...</td>\n",
       "    </tr>\n",
       "    <tr>\n",
       "      <th>798458</th>\n",
       "      <td>zzufg.com</td>\n",
       "      <td>0</td>\n",
       "      <td>9</td>\n",
       "      <td>phishing</td>\n",
       "      <td>0</td>\n",
       "      <td>0</td>\n",
       "      <td>1</td>\n",
       "      <td>0</td>\n",
       "      <td>0</td>\n",
       "      <td>0</td>\n",
       "      <td>...</td>\n",
       "      <td>0</td>\n",
       "      <td>0</td>\n",
       "      <td>0</td>\n",
       "      <td>1</td>\n",
       "      <td>com</td>\n",
       "      <td>1</td>\n",
       "      <td>2</td>\n",
       "      <td>0</td>\n",
       "      <td>1</td>\n",
       "      <td>0</td>\n",
       "    </tr>\n",
       "    <tr>\n",
       "      <th>798459</th>\n",
       "      <td>zzu.li</td>\n",
       "      <td>0</td>\n",
       "      <td>6</td>\n",
       "      <td>phishing</td>\n",
       "      <td>0</td>\n",
       "      <td>0</td>\n",
       "      <td>1</td>\n",
       "      <td>0</td>\n",
       "      <td>0</td>\n",
       "      <td>0</td>\n",
       "      <td>...</td>\n",
       "      <td>0</td>\n",
       "      <td>0</td>\n",
       "      <td>0</td>\n",
       "      <td>1</td>\n",
       "      <td>li</td>\n",
       "      <td>1</td>\n",
       "      <td>2</td>\n",
       "      <td>0</td>\n",
       "      <td>1</td>\n",
       "      <td>0</td>\n",
       "    </tr>\n",
       "    <tr>\n",
       "      <th>798460</th>\n",
       "      <td>zzz.co.uk</td>\n",
       "      <td>0</td>\n",
       "      <td>9</td>\n",
       "      <td>phishing</td>\n",
       "      <td>0</td>\n",
       "      <td>0</td>\n",
       "      <td>2</td>\n",
       "      <td>0</td>\n",
       "      <td>0</td>\n",
       "      <td>0</td>\n",
       "      <td>...</td>\n",
       "      <td>0</td>\n",
       "      <td>0</td>\n",
       "      <td>0</td>\n",
       "      <td>2</td>\n",
       "      <td>co.uk</td>\n",
       "      <td>2</td>\n",
       "      <td>3</td>\n",
       "      <td>0</td>\n",
       "      <td>1</td>\n",
       "      <td>0</td>\n",
       "    </tr>\n",
       "    <tr>\n",
       "      <th>798461</th>\n",
       "      <td>zzzoolight.co.za</td>\n",
       "      <td>0</td>\n",
       "      <td>16</td>\n",
       "      <td>phishing</td>\n",
       "      <td>0</td>\n",
       "      <td>0</td>\n",
       "      <td>2</td>\n",
       "      <td>0</td>\n",
       "      <td>0</td>\n",
       "      <td>0</td>\n",
       "      <td>...</td>\n",
       "      <td>0</td>\n",
       "      <td>0</td>\n",
       "      <td>0</td>\n",
       "      <td>2</td>\n",
       "      <td>co.za</td>\n",
       "      <td>2</td>\n",
       "      <td>3</td>\n",
       "      <td>0</td>\n",
       "      <td>1</td>\n",
       "      <td>0</td>\n",
       "    </tr>\n",
       "    <tr>\n",
       "      <th>798462</th>\n",
       "      <td>zzzoolight.co.za0-i-fdik.000webhostapp.com</td>\n",
       "      <td>0</td>\n",
       "      <td>42</td>\n",
       "      <td>phishing</td>\n",
       "      <td>2</td>\n",
       "      <td>4</td>\n",
       "      <td>4</td>\n",
       "      <td>0</td>\n",
       "      <td>0</td>\n",
       "      <td>0</td>\n",
       "      <td>...</td>\n",
       "      <td>3</td>\n",
       "      <td>zzzoolight.co.za0-i-fdik</td>\n",
       "      <td>3</td>\n",
       "      <td>4</td>\n",
       "      <td>com</td>\n",
       "      <td>1</td>\n",
       "      <td>5</td>\n",
       "      <td>0</td>\n",
       "      <td>1</td>\n",
       "      <td>1</td>\n",
       "    </tr>\n",
       "  </tbody>\n",
       "</table>\n",
       "<p>798463 rows × 22 columns</p>\n",
       "</div>"
      ],
      "text/plain": [
       "                                               url  status  url_length  \\\n",
       "0          0000111servicehelpdesk.godaddysites.com       0          39   \n",
       "1             000011accesswebform.godaddysites.com       0          36   \n",
       "2                                     00003.online       0          12   \n",
       "3              0009servicedeskowa.godaddysites.com       0          35   \n",
       "4                             000n38p.wcomhost.com       0          20   \n",
       "...                                            ...     ...         ...   \n",
       "798458                                   zzufg.com       0           9   \n",
       "798459                                      zzu.li       0           6   \n",
       "798460                                   zzz.co.uk       0           9   \n",
       "798461                            zzzoolight.co.za       0          16   \n",
       "798462  zzzoolight.co.za0-i-fdik.000webhostapp.com       0          42   \n",
       "\n",
       "           class  num_special_chars  num_digits  num_dots  num_slash  num_and  \\\n",
       "0       phishing                  0           7         2          0        0   \n",
       "1       phishing                  0           6         2          0        0   \n",
       "2       phishing                  0           5         1          0        0   \n",
       "3       phishing                  0           4         2          0        0   \n",
       "4       phishing                  0           5         2          0        0   \n",
       "...          ...                ...         ...       ...        ...      ...   \n",
       "798458  phishing                  0           0         1          0        0   \n",
       "798459  phishing                  0           0         1          0        0   \n",
       "798460  phishing                  0           0         2          0        0   \n",
       "798461  phishing                  0           0         2          0        0   \n",
       "798462  phishing                  2           4         4          0        0   \n",
       "\n",
       "        num_percent  ... num_digits_in_domain                 subdomain  \\\n",
       "0                 0  ...                    0    0000111servicehelpdesk   \n",
       "1                 0  ...                    0       000011accesswebform   \n",
       "2                 0  ...                    5                         0   \n",
       "3                 0  ...                    0        0009servicedeskowa   \n",
       "4                 0  ...                    0                   000n38p   \n",
       "...             ...  ...                  ...                       ...   \n",
       "798458            0  ...                    0                         0   \n",
       "798459            0  ...                    0                         0   \n",
       "798460            0  ...                    0                         0   \n",
       "798461            0  ...                    0                         0   \n",
       "798462            0  ...                    3  zzzoolight.co.za0-i-fdik   \n",
       "\n",
       "        num_subdomains pcount  top_domain  ptld spl  is_HTTPS  depth  \\\n",
       "0                    1      2         com     1   3         0      1   \n",
       "1                    1      2         com     1   3         0      1   \n",
       "2                    0      1      online     1   2         0      1   \n",
       "3                    1      2         com     1   3         0      1   \n",
       "4                    1      2         com     1   3         0      1   \n",
       "...                ...    ...         ...   ...  ..       ...    ...   \n",
       "798458               0      1         com     1   2         0      1   \n",
       "798459               0      1          li     1   2         0      1   \n",
       "798460               0      2       co.uk     2   3         0      1   \n",
       "798461               0      2       co.za     2   3         0      1   \n",
       "798462               3      4         com     1   5         0      1   \n",
       "\n",
       "        subdomain_digits  \n",
       "0                      7  \n",
       "1                      6  \n",
       "2                      0  \n",
       "3                      4  \n",
       "4                      5  \n",
       "...                  ...  \n",
       "798458                 0  \n",
       "798459                 0  \n",
       "798460                 0  \n",
       "798461                 0  \n",
       "798462                 1  \n",
       "\n",
       "[798463 rows x 22 columns]"
      ]
     },
     "execution_count": 3,
     "metadata": {},
     "output_type": "execute_result"
    }
   ],
   "source": [
    "data"
   ]
  },
  {
   "cell_type": "code",
   "execution_count": 4,
   "metadata": {},
   "outputs": [],
   "source": [
    "# def sp(text):\n",
    "#     res=[]\n",
    "#     res[:]=text+' '\n",
    "#     # return res\n",
    "#     return \" \".join(res)\n",
    "# df.url=df.url.apply(sp)\n"
   ]
  },
  {
   "cell_type": "code",
   "execution_count": 5,
   "metadata": {},
   "outputs": [
    {
     "data": {
      "text/plain": [
       "0            0000111servicehelpdesk.godaddysites.com\n",
       "1               000011accesswebform.godaddysites.com\n",
       "2                                       00003.online\n",
       "3                0009servicedeskowa.godaddysites.com\n",
       "4                               000n38p.wcomhost.com\n",
       "                             ...                    \n",
       "798458                                     zzufg.com\n",
       "798459                                        zzu.li\n",
       "798460                                     zzz.co.uk\n",
       "798461                              zzzoolight.co.za\n",
       "798462    zzzoolight.co.za0-i-fdik.000webhostapp.com\n",
       "Name: url, Length: 798463, dtype: object"
      ]
     },
     "execution_count": 5,
     "metadata": {},
     "output_type": "execute_result"
    }
   ],
   "source": [
    "df.url"
   ]
  },
  {
   "cell_type": "code",
   "execution_count": 6,
   "metadata": {},
   "outputs": [],
   "source": [
    "from sklearn.preprocessing import LabelEncoder\n",
    "\n",
    "\n",
    "label_encoder = LabelEncoder()\n",
    "data['top_domain_encoded'] = label_encoder.fit_transform(data['top_domain'])\n",
    "data['domain_encoded'] = label_encoder.fit_transform(data['domain'])\n",
    "data['subdomain_encoded'] = label_encoder.fit_transform(data['subdomain'])\n",
    "data=data.drop(columns=['url','domain','class','ptld','spl','subdomain','top_domain','pcount'])\n"
   ]
  },
  {
   "cell_type": "code",
   "execution_count": 7,
   "metadata": {},
   "outputs": [
    {
     "data": {
      "text/plain": [
       "1232"
      ]
     },
     "execution_count": 7,
     "metadata": {},
     "output_type": "execute_result"
    }
   ],
   "source": [
    "a=data.top_domain_encoded.nunique()\n",
    "data.top_domain_encoded.nunique()"
   ]
  },
  {
   "cell_type": "code",
   "execution_count": 8,
   "metadata": {},
   "outputs": [
    {
     "data": {
      "text/plain": [
       "308783"
      ]
     },
     "execution_count": 8,
     "metadata": {},
     "output_type": "execute_result"
    }
   ],
   "source": [
    "b=data.domain_encoded.nunique()\n",
    "data.domain_encoded.nunique()"
   ]
  },
  {
   "cell_type": "code",
   "execution_count": 9,
   "metadata": {},
   "outputs": [
    {
     "data": {
      "text/plain": [
       "111203"
      ]
     },
     "execution_count": 9,
     "metadata": {},
     "output_type": "execute_result"
    }
   ],
   "source": [
    "c=data.subdomain_encoded.nunique()\n",
    "data.subdomain_encoded.nunique()"
   ]
  },
  {
   "cell_type": "code",
   "execution_count": 10,
   "metadata": {},
   "outputs": [
    {
     "data": {
      "text/plain": [
       "421218"
      ]
     },
     "execution_count": 10,
     "metadata": {},
     "output_type": "execute_result"
    }
   ],
   "source": [
    "d=a+b+c\n",
    "d"
   ]
  },
  {
   "cell_type": "code",
   "execution_count": 11,
   "metadata": {},
   "outputs": [
    {
     "data": {
      "text/html": [
       "<div>\n",
       "<style scoped>\n",
       "    .dataframe tbody tr th:only-of-type {\n",
       "        vertical-align: middle;\n",
       "    }\n",
       "\n",
       "    .dataframe tbody tr th {\n",
       "        vertical-align: top;\n",
       "    }\n",
       "\n",
       "    .dataframe thead th {\n",
       "        text-align: right;\n",
       "    }\n",
       "</style>\n",
       "<table border=\"1\" class=\"dataframe\">\n",
       "  <thead>\n",
       "    <tr style=\"text-align: right;\">\n",
       "      <th></th>\n",
       "      <th>status</th>\n",
       "      <th>url_length</th>\n",
       "      <th>num_special_chars</th>\n",
       "      <th>num_digits</th>\n",
       "      <th>num_dots</th>\n",
       "      <th>num_slash</th>\n",
       "      <th>num_and</th>\n",
       "      <th>num_percent</th>\n",
       "      <th>domain_length</th>\n",
       "      <th>num_digits_in_domain</th>\n",
       "      <th>num_subdomains</th>\n",
       "      <th>is_HTTPS</th>\n",
       "      <th>depth</th>\n",
       "      <th>subdomain_digits</th>\n",
       "      <th>top_domain_encoded</th>\n",
       "      <th>domain_encoded</th>\n",
       "      <th>subdomain_encoded</th>\n",
       "    </tr>\n",
       "  </thead>\n",
       "  <tbody>\n",
       "    <tr>\n",
       "      <th>0</th>\n",
       "      <td>0</td>\n",
       "      <td>39</td>\n",
       "      <td>0</td>\n",
       "      <td>7</td>\n",
       "      <td>2</td>\n",
       "      <td>0</td>\n",
       "      <td>0</td>\n",
       "      <td>0</td>\n",
       "      <td>12</td>\n",
       "      <td>0</td>\n",
       "      <td>1</td>\n",
       "      <td>0</td>\n",
       "      <td>1</td>\n",
       "      <td>7</td>\n",
       "      <td>225</td>\n",
       "      <td>111707</td>\n",
       "      <td>17</td>\n",
       "    </tr>\n",
       "    <tr>\n",
       "      <th>1</th>\n",
       "      <td>0</td>\n",
       "      <td>36</td>\n",
       "      <td>0</td>\n",
       "      <td>6</td>\n",
       "      <td>2</td>\n",
       "      <td>0</td>\n",
       "      <td>0</td>\n",
       "      <td>0</td>\n",
       "      <td>12</td>\n",
       "      <td>0</td>\n",
       "      <td>1</td>\n",
       "      <td>0</td>\n",
       "      <td>1</td>\n",
       "      <td>6</td>\n",
       "      <td>225</td>\n",
       "      <td>111707</td>\n",
       "      <td>18</td>\n",
       "    </tr>\n",
       "    <tr>\n",
       "      <th>2</th>\n",
       "      <td>0</td>\n",
       "      <td>12</td>\n",
       "      <td>0</td>\n",
       "      <td>5</td>\n",
       "      <td>1</td>\n",
       "      <td>0</td>\n",
       "      <td>0</td>\n",
       "      <td>0</td>\n",
       "      <td>5</td>\n",
       "      <td>5</td>\n",
       "      <td>0</td>\n",
       "      <td>0</td>\n",
       "      <td>1</td>\n",
       "      <td>0</td>\n",
       "      <td>878</td>\n",
       "      <td>10</td>\n",
       "      <td>0</td>\n",
       "    </tr>\n",
       "    <tr>\n",
       "      <th>3</th>\n",
       "      <td>0</td>\n",
       "      <td>35</td>\n",
       "      <td>0</td>\n",
       "      <td>4</td>\n",
       "      <td>2</td>\n",
       "      <td>0</td>\n",
       "      <td>0</td>\n",
       "      <td>0</td>\n",
       "      <td>12</td>\n",
       "      <td>0</td>\n",
       "      <td>1</td>\n",
       "      <td>0</td>\n",
       "      <td>1</td>\n",
       "      <td>4</td>\n",
       "      <td>225</td>\n",
       "      <td>111707</td>\n",
       "      <td>25</td>\n",
       "    </tr>\n",
       "    <tr>\n",
       "      <th>4</th>\n",
       "      <td>0</td>\n",
       "      <td>20</td>\n",
       "      <td>0</td>\n",
       "      <td>5</td>\n",
       "      <td>2</td>\n",
       "      <td>0</td>\n",
       "      <td>0</td>\n",
       "      <td>0</td>\n",
       "      <td>8</td>\n",
       "      <td>0</td>\n",
       "      <td>1</td>\n",
       "      <td>0</td>\n",
       "      <td>1</td>\n",
       "      <td>5</td>\n",
       "      <td>225</td>\n",
       "      <td>291146</td>\n",
       "      <td>29</td>\n",
       "    </tr>\n",
       "  </tbody>\n",
       "</table>\n",
       "</div>"
      ],
      "text/plain": [
       "   status  url_length  num_special_chars  num_digits  num_dots  num_slash  \\\n",
       "0       0          39                  0           7         2          0   \n",
       "1       0          36                  0           6         2          0   \n",
       "2       0          12                  0           5         1          0   \n",
       "3       0          35                  0           4         2          0   \n",
       "4       0          20                  0           5         2          0   \n",
       "\n",
       "   num_and  num_percent  domain_length  num_digits_in_domain  num_subdomains  \\\n",
       "0        0            0             12                     0               1   \n",
       "1        0            0             12                     0               1   \n",
       "2        0            0              5                     5               0   \n",
       "3        0            0             12                     0               1   \n",
       "4        0            0              8                     0               1   \n",
       "\n",
       "   is_HTTPS  depth  subdomain_digits  top_domain_encoded  domain_encoded  \\\n",
       "0         0      1                 7                 225          111707   \n",
       "1         0      1                 6                 225          111707   \n",
       "2         0      1                 0                 878              10   \n",
       "3         0      1                 4                 225          111707   \n",
       "4         0      1                 5                 225          291146   \n",
       "\n",
       "   subdomain_encoded  \n",
       "0                 17  \n",
       "1                 18  \n",
       "2                  0  \n",
       "3                 25  \n",
       "4                 29  "
      ]
     },
     "execution_count": 11,
     "metadata": {},
     "output_type": "execute_result"
    }
   ],
   "source": [
    "data.head()"
   ]
  },
  {
   "cell_type": "code",
   "execution_count": 12,
   "metadata": {},
   "outputs": [],
   "source": [
    "\n",
    "y=data['status']\n",
    "X=data.drop('status', axis=1)\n"
   ]
  },
  {
   "cell_type": "code",
   "execution_count": 13,
   "metadata": {},
   "outputs": [],
   "source": [
    "X_train, X_test, y_train,y_test = train_test_split(X,y,test_size=0.3,random_state=54)"
   ]
  },
  {
   "cell_type": "code",
   "execution_count": 14,
   "metadata": {},
   "outputs": [
    {
     "data": {
      "text/plain": [
       "(558924, 16)"
      ]
     },
     "execution_count": 14,
     "metadata": {},
     "output_type": "execute_result"
    }
   ],
   "source": [
    "X_train.shape"
   ]
  },
  {
   "cell_type": "code",
   "execution_count": 15,
   "metadata": {},
   "outputs": [
    {
     "data": {
      "text/plain": [
       "(239539, 16)"
      ]
     },
     "execution_count": 15,
     "metadata": {},
     "output_type": "execute_result"
    }
   ],
   "source": [
    "X_test.shape"
   ]
  },
  {
   "cell_type": "code",
   "execution_count": null,
   "metadata": {},
   "outputs": [],
   "source": []
  },
  {
   "cell_type": "markdown",
   "metadata": {},
   "source": [
    "## Traditional Models"
   ]
  },
  {
   "cell_type": "code",
   "execution_count": 16,
   "metadata": {},
   "outputs": [
    {
     "name": "stdout",
     "output_type": "stream",
     "text": [
      "              precision    recall  f1-score   support\n",
      "\n",
      "           0       0.96      0.94      0.95    111486\n",
      "           1       0.95      0.96      0.95    128053\n",
      "\n",
      "    accuracy                           0.95    239539\n",
      "   macro avg       0.95      0.95      0.95    239539\n",
      "weighted avg       0.95      0.95      0.95    239539\n",
      "\n"
     ]
    }
   ],
   "source": [
    "rf = RandomForestClassifier()\n",
    "rf.fit(X_train, y_train)\n",
    "y_pred = rf.predict(X_test)\n",
    "print(classification_report(y_test, y_pred))\n",
    "# trains in around 2 minutes and has 0.95 accross the board"
   ]
  },
  {
   "cell_type": "code",
   "execution_count": 17,
   "metadata": {},
   "outputs": [],
   "source": [
    "vectorizer = TfidfVectorizer(analyzer='char')\n",
    "X=vectorizer.fit_transform(df.url)\n",
    "tfidf_df = pd.DataFrame(X.toarray(), columns=vectorizer.get_feature_names())\n",
    "y1=df['status']\n",
    "X1=tfidf_df\n",
    "X_train1, X_test1, y_train1,y_test1 = train_test_split(X,y,test_size=0.2,random_state=504)\n"
   ]
  },
  {
   "cell_type": "code",
   "execution_count": 18,
   "metadata": {},
   "outputs": [],
   "source": [
    "# rf = RandomForestClassifier()\n",
    "# rf.fit(X_train1, y_train1)\n",
    "# y_pred1 = rf.predict(X_test1)\n",
    "# print(classification_report(y_test1, y_pred1))\n",
    "# took 32 minutes to train on unstructured data, was less accurate for the most part "
   ]
  },
  {
   "cell_type": "code",
   "execution_count": 19,
   "metadata": {},
   "outputs": [],
   "source": [
    "# clf = svm.SVC(kernel='linear') \n",
    "\n",
    "# clf.fit(X_train, y_train)\n",
    "\n",
    "# y_pred = clf.predict(X_test)\n",
    "# print(classification_report(y_test, y_pred))\n",
    "# ran for 5 hours and did not finish training"
   ]
  },
  {
   "cell_type": "code",
   "execution_count": 20,
   "metadata": {},
   "outputs": [
    {
     "name": "stdout",
     "output_type": "stream",
     "text": [
      "              precision    recall  f1-score   support\n",
      "\n",
      "           0       0.89      0.20      0.32    111486\n",
      "           1       0.58      0.98      0.73    128053\n",
      "\n",
      "    accuracy                           0.62    239539\n",
      "   macro avg       0.74      0.59      0.53    239539\n",
      "weighted avg       0.73      0.62      0.54    239539\n",
      "\n"
     ]
    }
   ],
   "source": [
    "clf = LinearSVC() \n",
    "\n",
    "clf.fit(X_train, y_train)\n",
    "\n",
    "y_pred = clf.predict(X_test)\n",
    "print(classification_report(y_test, y_pred))\n",
    "# ran for 5 minutes and did not finish training"
   ]
  },
  {
   "cell_type": "code",
   "execution_count": 21,
   "metadata": {},
   "outputs": [
    {
     "name": "stdout",
     "output_type": "stream",
     "text": [
      "              precision    recall  f1-score   support\n",
      "\n",
      "           0       0.47      1.00      0.63    111486\n",
      "           1       0.39      0.00      0.00    128053\n",
      "\n",
      "    accuracy                           0.47    239539\n",
      "   macro avg       0.43      0.50      0.32    239539\n",
      "weighted avg       0.43      0.47      0.30    239539\n",
      "\n"
     ]
    }
   ],
   "source": [
    "\n",
    "clf = SGDClassifier() \n",
    "\n",
    "clf.fit(X_train, y_train)\n",
    "\n",
    "y_pred = clf.predict(X_test)\n",
    "print(classification_report(y_test, y_pred))\n",
    "# took  4 minuted but terrible results"
   ]
  },
  {
   "cell_type": "markdown",
   "metadata": {
    "notebookRunGroups": {
     "groupValue": "1"
    }
   },
   "source": [
    "# Neural Networks"
   ]
  },
  {
   "cell_type": "code",
   "execution_count": 22,
   "metadata": {},
   "outputs": [],
   "source": [
    "tld_num=data['top_domain_encoded'].nunique()\n",
    "ld_num=data['domain_encoded'].nunique()\n",
    "sub_num=data['subdomain_encoded'].nunique()\n",
    "\n"
   ]
  },
  {
   "cell_type": "markdown",
   "metadata": {},
   "source": [
    "## LSTM"
   ]
  },
  {
   "cell_type": "code",
   "execution_count": 23,
   "metadata": {},
   "outputs": [],
   "source": [
    "tf.keras.backend.clear_session()\n",
    "tf.random.set_seed(50)\n"
   ]
  },
  {
   "cell_type": "code",
   "execution_count": 24,
   "metadata": {},
   "outputs": [],
   "source": [
    "Lstm  = Sequential()\n",
    "Lstm.add(Embedding(d,8))\n",
    "Lstm.add(Dropout(0.4))\n",
    "Lstm.add(LSTM(128,return_state=False))\n",
    "Lstm.add(Dense(24,activation='relu'))\n",
    "Lstm.add(Dense(1,activation ='sigmoid',kernel_regularizer=l1(0.03), bias_regularizer=l2(0.03)))"
   ]
  },
  {
   "cell_type": "code",
   "execution_count": 25,
   "metadata": {},
   "outputs": [],
   "source": [
    "Lstm.compile(loss ='binary_crossentropy',optimizer='adam', metrics=['accuracy', 'precision', 'recall'])"
   ]
  },
  {
   "cell_type": "code",
   "execution_count": 26,
   "metadata": {},
   "outputs": [
    {
     "name": "stdout",
     "output_type": "stream",
     "text": [
      "Epoch 1/30\n"
     ]
    },
    {
     "name": "stdout",
     "output_type": "stream",
     "text": [
      "17467/17467 - 424s - 24ms/step - accuracy: 0.9171 - loss: 0.2073 - precision: 0.9131 - recall: 0.9339 - val_accuracy: 0.9508 - val_loss: 0.1269 - val_precision: 0.9368 - val_recall: 0.9736\n",
      "Epoch 2/30\n",
      "17467/17467 - 355s - 20ms/step - accuracy: 0.9738 - loss: 0.0773 - precision: 0.9751 - recall: 0.9758 - val_accuracy: 0.9513 - val_loss: 0.1251 - val_precision: 0.9536 - val_recall: 0.9554\n",
      "Epoch 3/30\n",
      "17467/17467 - 461s - 26ms/step - accuracy: 0.9849 - loss: 0.0488 - precision: 0.9864 - recall: 0.9854 - val_accuracy: 0.9469 - val_loss: 0.1393 - val_precision: 0.9591 - val_recall: 0.9409\n",
      "Epoch 4/30\n",
      "17467/17467 - 524s - 30ms/step - accuracy: 0.9887 - loss: 0.0387 - precision: 0.9899 - recall: 0.9888 - val_accuracy: 0.9493 - val_loss: 0.1425 - val_precision: 0.9584 - val_recall: 0.9462\n",
      "Epoch 5/30\n",
      "17467/17467 - 548s - 31ms/step - accuracy: 0.9904 - loss: 0.0335 - precision: 0.9914 - recall: 0.9905 - val_accuracy: 0.9490 - val_loss: 0.1447 - val_precision: 0.9530 - val_recall: 0.9516\n",
      "Epoch 5: early stopping\n",
      "Restoring model weights from the end of the best epoch: 2.\n"
     ]
    }
   ],
   "source": [
    "num_epochs =30\n",
    "early_stop = EarlyStopping(monitor='val_loss',patience=3, verbose=1, restore_best_weights=True)\n",
    "historyL=Lstm.fit(X_train, y_train,epochs = num_epochs,validation_data=(X_test,y_test),callbacks =[early_stop],verbose =2)\n",
    "# around8 minutes an epeoch when split "
   ]
  },
  {
   "cell_type": "markdown",
   "metadata": {},
   "source": [
    "## CNN"
   ]
  },
  {
   "cell_type": "code",
   "execution_count": 27,
   "metadata": {},
   "outputs": [],
   "source": [
    "tf.keras.backend.clear_session()\n",
    "tf.random.set_seed(50)"
   ]
  },
  {
   "cell_type": "code",
   "execution_count": 28,
   "metadata": {},
   "outputs": [],
   "source": [
    "cnn  = Sequential()\n",
    "cnn.add(Embedding(d,8))\n",
    "cnn.add(Dropout(0.4))\n",
    "cnn.add(Conv1D(128, 5, activation='relu'))\n",
    "cnn.add(MaxPooling1D(pool_size=2))\n",
    "cnn.add(Flatten())\n",
    "cnn.add(Dense(24,activation='relu'))\n",
    "cnn.add(Dense(1,activation ='sigmoid',kernel_regularizer=l1(0.03), bias_regularizer=l2(0.03)))"
   ]
  },
  {
   "cell_type": "code",
   "execution_count": 29,
   "metadata": {},
   "outputs": [],
   "source": [
    "cnn.compile(loss ='binary_crossentropy',optimizer='adam', metrics=['accuracy', 'precision', 'recall'])"
   ]
  },
  {
   "cell_type": "code",
   "execution_count": 30,
   "metadata": {},
   "outputs": [
    {
     "name": "stdout",
     "output_type": "stream",
     "text": [
      "Epoch 1/30\n"
     ]
    },
    {
     "name": "stdout",
     "output_type": "stream",
     "text": [
      "17467/17467 - 352s - 20ms/step - accuracy: 0.9271 - loss: 0.1894 - precision: 0.9198 - recall: 0.9462 - val_accuracy: 0.9539 - val_loss: 0.1221 - val_precision: 0.9454 - val_recall: 0.9698\n",
      "Epoch 2/30\n",
      "17467/17467 - 263s - 15ms/step - accuracy: 0.9742 - loss: 0.0796 - precision: 0.9747 - recall: 0.9771 - val_accuracy: 0.9517 - val_loss: 0.1229 - val_precision: 0.9544 - val_recall: 0.9554\n",
      "Epoch 3/30\n",
      "17467/17467 - 191s - 11ms/step - accuracy: 0.9866 - loss: 0.0476 - precision: 0.9882 - recall: 0.9867 - val_accuracy: 0.9481 - val_loss: 0.1288 - val_precision: 0.9496 - val_recall: 0.9535\n",
      "Epoch 4/30\n",
      "17467/17467 - 214s - 12ms/step - accuracy: 0.9901 - loss: 0.0362 - precision: 0.9914 - recall: 0.9901 - val_accuracy: 0.9505 - val_loss: 0.1312 - val_precision: 0.9519 - val_recall: 0.9558\n",
      "Epoch 4: early stopping\n",
      "Restoring model weights from the end of the best epoch: 1.\n"
     ]
    }
   ],
   "source": [
    "num_epochs =30\n",
    "early_stop = EarlyStopping(monitor='val_loss',patience=3, verbose=1, restore_best_weights=True)\n",
    "historyC=cnn.fit(X_train, y_train,epochs = num_epochs,validation_data=(X_test,y_test),callbacks =[early_stop],verbose =2)\n",
    "# around 6 minutes an epoch when split "
   ]
  }
 ],
 "metadata": {
  "kernelspec": {
   "display_name": "base",
   "language": "python",
   "name": "python3"
  },
  "language_info": {
   "codemirror_mode": {
    "name": "ipython",
    "version": 3
   },
   "file_extension": ".py",
   "mimetype": "text/x-python",
   "name": "python",
   "nbconvert_exporter": "python",
   "pygments_lexer": "ipython3",
   "version": "3.9.7"
  }
 },
 "nbformat": 4,
 "nbformat_minor": 2
}
