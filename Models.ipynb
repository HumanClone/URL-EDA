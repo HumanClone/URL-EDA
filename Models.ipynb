{
 "cells": [
  {
   "cell_type": "markdown",
   "metadata": {},
   "source": [
    "## Imports"
   ]
  },
  {
   "cell_type": "code",
   "execution_count": 26,
   "metadata": {},
   "outputs": [],
   "source": [
    "import numpy as np\n",
    "import pandas as pd\n",
    "from sklearn.preprocessing import LabelEncoder\n",
    "from ipaddress import *\n",
    "import seaborn as sns\n",
    "import matplotlib.pyplot as plt\n",
    "from sklearn.preprocessing import StandardScaler\n",
    "from sklearn.feature_extraction.text import CountVectorizer, TfidfVectorizer\n",
    "from sklearn.model_selection import train_test_split\n",
    "from sklearn.metrics import accuracy_score, confusion_matrix, precision_score, recall_score,f1_score,auc,roc_curve,roc_auc_score, ConfusionMatrixDisplay\n",
    "from sklearn.metrics import classification_report\n",
    "from sklearn.preprocessing import LabelEncoder\n",
    "from sklearn.ensemble import RandomForestClassifier\n",
    "from sklearn.linear_model import SGDClassifier\n",
    "from sklearn import svm\n",
    "import tensorflow as tf\n",
    "from tensorflow.keras.preprocessing.text import Tokenizer\n",
    "from tensorflow.keras.preprocessing.sequence import pad_sequences\n",
    "from tensorflow.keras.callbacks import EarlyStopping\n",
    "from tensorflow.keras.models import Sequential\n",
    "from tensorflow.keras.layers import SimpleRNN, Dense, Embedding, Dropout, Flatten, SpatialDropout1D, LSTM,Input, concatenate, Reshape, InputLayer, Conv1D, MaxPooling1D, Flatten\n",
    "from tensorflow.keras.regularizers import l1, l2, l1_l2\n",
    "import re\n",
    "import tldextract\n",
    "import warnings\n",
    "warnings.filterwarnings(\"ignore\")\n",
    "sns.set_style(style='white') \n",
    "from sklearn.svm import LinearSVC"
   ]
  },
  {
   "cell_type": "markdown",
   "metadata": {},
   "source": [
    "## Data Transforming"
   ]
  },
  {
   "cell_type": "code",
   "execution_count": 27,
   "metadata": {},
   "outputs": [],
   "source": [
    "\n",
    "data=pd.read_csv('cleaned_data.csv')\n",
    "df=data[['url','status']]\n",
    "data=data.drop('url',axis=1)"
   ]
  },
  {
   "cell_type": "code",
   "execution_count": null,
   "metadata": {},
   "outputs": [],
   "source": [
    "data"
   ]
  },
  {
   "cell_type": "code",
   "execution_count": null,
   "metadata": {},
   "outputs": [],
   "source": [
    "a=data.top_domain_encoded.nunique()\n",
    "data.top_domain_encoded.nunique()"
   ]
  },
  {
   "cell_type": "code",
   "execution_count": null,
   "metadata": {},
   "outputs": [],
   "source": [
    "b=data.domain_encoded.nunique()\n",
    "data.domain_encoded.nunique()"
   ]
  },
  {
   "cell_type": "code",
   "execution_count": null,
   "metadata": {},
   "outputs": [],
   "source": [
    "d=a+b\n",
    "d"
   ]
  },
  {
   "cell_type": "code",
   "execution_count": null,
   "metadata": {},
   "outputs": [],
   "source": [
    "data.head()"
   ]
  },
  {
   "cell_type": "code",
   "execution_count": 33,
   "metadata": {},
   "outputs": [],
   "source": [
    "\n",
    "y=data['status']\n",
    "X=data.drop('status', axis=1)\n",
    "col=X.columns\n",
    "X=StandardScaler().fit_transform(X)\n",
    "X=pd.DataFrame(X,columns=col)"
   ]
  },
  {
   "cell_type": "code",
   "execution_count": 34,
   "metadata": {},
   "outputs": [],
   "source": [
    "X_train, X_test, y_train,y_test = train_test_split(X,y,test_size=0.2,random_state=54)"
   ]
  },
  {
   "cell_type": "code",
   "execution_count": null,
   "metadata": {},
   "outputs": [],
   "source": [
    "X_train.shape"
   ]
  },
  {
   "cell_type": "code",
   "execution_count": null,
   "metadata": {},
   "outputs": [],
   "source": [
    "X_test.shape"
   ]
  },
  {
   "cell_type": "code",
   "execution_count": null,
   "metadata": {},
   "outputs": [],
   "source": [
    "X_train"
   ]
  },
  {
   "cell_type": "markdown",
   "metadata": {},
   "source": [
    "## Traditional Models"
   ]
  },
  {
   "cell_type": "code",
   "execution_count": 38,
   "metadata": {},
   "outputs": [
    {
     "name": "stdout",
     "output_type": "stream",
     "text": [
      " The Accuracy  :0.9509934687181029\n",
      " The Precision :0.9480720745726644\n",
      " The Recall :0.9608964741185296\n",
      " The F1 Score model is :0.9544411973593825\n",
      " The ROC_AUC Score model is :0.9502657979955255\n"
     ]
    }
   ],
   "source": [
    "rf = RandomForestClassifier()\n",
    "rf.fit(X_train, y_train)\n",
    "y_pred = rf.predict(X_test)\n",
    "print(f' The Accuracy  :{accuracy_score(y_test,y_pred)}')\n",
    "print(f' The Precision :{precision_score(y_test,y_pred)}')\n",
    "print(f' The Recall :{recall_score(y_test,y_pred)}')\n",
    "print(f' The F1 Score model is :{f1_score(y_test,y_pred)}')\n",
    "print(f' The ROC_AUC Score model is :{roc_auc_score(y_test,y_pred)}')\n",
    "# trains in around 2 minutes and has 0.95 across the board"
   ]
  },
  {
   "cell_type": "code",
   "execution_count": 39,
   "metadata": {},
   "outputs": [
    {
     "name": "stdout",
     "output_type": "stream",
     "text": [
      " The Accuracy  :0.7498137050465581\n",
      " The Precision :0.7267745902868742\n",
      " The Recall :0.8519786196549137\n",
      " The F1 Score model is :0.7844119123035167\n",
      " The ROC_AUC Score model is :0.7423066489328736\n"
     ]
    }
   ],
   "source": [
    "clf = LinearSVC() \n",
    "\n",
    "clf.fit(X_train, y_train)\n",
    "\n",
    "y_pred = clf.predict(X_test)\n",
    "print(f' The Accuracy  :{accuracy_score(y_test,y_pred)}')\n",
    "print(f' The Precision :{precision_score(y_test,y_pred)}')\n",
    "print(f' The Recall :{recall_score(y_test,y_pred)}')\n",
    "print(f' The F1 Score model is :{f1_score(y_test,y_pred)}')\n",
    "print(f' The ROC_AUC Score model is :{roc_auc_score(y_test,y_pred)}')\n",
    "# ran for 5 minutes and did not finish training"
   ]
  },
  {
   "cell_type": "markdown",
   "metadata": {
    "notebookRunGroups": {
     "groupValue": "1"
    }
   },
   "source": [
    "# Neural Networks"
   ]
  },
  {
   "cell_type": "markdown",
   "metadata": {},
   "source": [
    "## LSTM"
   ]
  },
  {
   "cell_type": "code",
   "execution_count": 40,
   "metadata": {},
   "outputs": [],
   "source": [
    "tf.keras.backend.clear_session()\n",
    "tf.random.set_seed(50)\n"
   ]
  },
  {
   "cell_type": "code",
   "execution_count": 41,
   "metadata": {},
   "outputs": [],
   "source": [
    "Lstm  = Sequential()\n",
    "Lstm.add(Embedding(d,8))\n",
    "Lstm.add(Dropout(0.2))\n",
    "Lstm.add(LSTM(128,return_state=False))\n",
    "Lstm.add(Dense(24,activation='relu'))\n",
    "# Lstm.add(Dense(1,activation ='sigmoid',kernel_regularizer=l1(0.01), bias_regularizer=l2(0.01)))\n",
    "Lstm.add(Dense(1,activation ='sigmoid'))"
   ]
  },
  {
   "cell_type": "code",
   "execution_count": 42,
   "metadata": {},
   "outputs": [],
   "source": [
    "Lstm.compile(loss ='binary_crossentropy',optimizer='adam', metrics=['accuracy', 'precision', 'recall'])"
   ]
  },
  {
   "cell_type": "code",
   "execution_count": 43,
   "metadata": {},
   "outputs": [
    {
     "name": "stdout",
     "output_type": "stream",
     "text": [
      "Epoch 1/30\n",
      "19962/19962 - 226s - 11ms/step - accuracy: 0.8544 - loss: 0.3488 - precision: 0.8220 - recall: 0.9288 - val_accuracy: 0.8736 - val_loss: 0.3112 - val_precision: 0.8491 - val_recall: 0.9284\n",
      "Epoch 2/30\n",
      "19962/19962 - 229s - 11ms/step - accuracy: 0.8735 - loss: 0.3117 - precision: 0.8426 - recall: 0.9388 - val_accuracy: 0.8778 - val_loss: 0.3016 - val_precision: 0.8530 - val_recall: 0.9318\n",
      "Epoch 3/30\n",
      "19962/19962 - 229s - 11ms/step - accuracy: 0.8761 - loss: 0.3051 - precision: 0.8449 - recall: 0.9410 - val_accuracy: 0.8784 - val_loss: 0.2995 - val_precision: 0.8530 - val_recall: 0.9331\n",
      "Epoch 4/30\n",
      "19962/19962 - 228s - 11ms/step - accuracy: 0.8773 - loss: 0.3017 - precision: 0.8455 - recall: 0.9427 - val_accuracy: 0.8793 - val_loss: 0.2979 - val_precision: 0.8513 - val_recall: 0.9379\n",
      "Epoch 5/30\n",
      "19962/19962 - 229s - 11ms/step - accuracy: 0.8782 - loss: 0.2993 - precision: 0.8461 - recall: 0.9439 - val_accuracy: 0.8795 - val_loss: 0.2973 - val_precision: 0.8516 - val_recall: 0.9378\n",
      "Epoch 6/30\n",
      "19962/19962 - 229s - 11ms/step - accuracy: 0.8789 - loss: 0.2978 - precision: 0.8467 - recall: 0.9445 - val_accuracy: 0.8794 - val_loss: 0.2969 - val_precision: 0.8491 - val_recall: 0.9417\n",
      "Epoch 7/30\n",
      "19962/19962 - 229s - 11ms/step - accuracy: 0.8794 - loss: 0.2968 - precision: 0.8468 - recall: 0.9454 - val_accuracy: 0.8800 - val_loss: 0.2969 - val_precision: 0.8513 - val_recall: 0.9394\n",
      "Epoch 8/30\n",
      "19962/19962 - 222s - 11ms/step - accuracy: 0.8797 - loss: 0.2960 - precision: 0.8472 - recall: 0.9456 - val_accuracy: 0.8798 - val_loss: 0.2957 - val_precision: 0.8504 - val_recall: 0.9405\n",
      "Epoch 9/30\n",
      "19962/19962 - 223s - 11ms/step - accuracy: 0.8800 - loss: 0.2953 - precision: 0.8474 - recall: 0.9459 - val_accuracy: 0.8800 - val_loss: 0.2956 - val_precision: 0.8484 - val_recall: 0.9441\n",
      "Epoch 10/30\n",
      "19962/19962 - 223s - 11ms/step - accuracy: 0.8804 - loss: 0.2946 - precision: 0.8474 - recall: 0.9467 - val_accuracy: 0.8802 - val_loss: 0.2956 - val_precision: 0.8499 - val_recall: 0.9421\n",
      "Epoch 11/30\n",
      "19962/19962 - 230s - 12ms/step - accuracy: 0.8803 - loss: 0.2942 - precision: 0.8476 - recall: 0.9464 - val_accuracy: 0.8803 - val_loss: 0.2951 - val_precision: 0.8500 - val_recall: 0.9421\n",
      "Epoch 12/30\n",
      "19962/19962 - 225s - 11ms/step - accuracy: 0.8806 - loss: 0.2937 - precision: 0.8478 - recall: 0.9466 - val_accuracy: 0.8801 - val_loss: 0.2952 - val_precision: 0.8504 - val_recall: 0.9412\n",
      "Epoch 13/30\n",
      "19962/19962 - 223s - 11ms/step - accuracy: 0.8809 - loss: 0.2935 - precision: 0.8479 - recall: 0.9472 - val_accuracy: 0.8801 - val_loss: 0.2960 - val_precision: 0.8498 - val_recall: 0.9420\n",
      "Epoch 14/30\n",
      "19962/19962 - 223s - 11ms/step - accuracy: 0.8810 - loss: 0.2930 - precision: 0.8479 - recall: 0.9474 - val_accuracy: 0.8802 - val_loss: 0.2954 - val_precision: 0.8503 - val_recall: 0.9415\n",
      "Epoch 14: early stopping\n",
      "Restoring model weights from the end of the best epoch: 11.\n"
     ]
    }
   ],
   "source": [
    "num_epochs =30\n",
    "early_stop = EarlyStopping(monitor='val_loss',patience=3, verbose=1, restore_best_weights=True)\n",
    "historyL=Lstm.fit(X_train, y_train,epochs = num_epochs,validation_data=(X_test,y_test),callbacks =[early_stop],verbose =2)\n",
    "# around8 minutes an epoch when split "
   ]
  },
  {
   "cell_type": "code",
   "execution_count": 44,
   "metadata": {},
   "outputs": [
    {
     "name": "stdout",
     "output_type": "stream",
     "text": [
      "4991/4991 - 13s - 3ms/step - accuracy: 0.8803 - loss: 0.2951 - precision: 0.8500 - recall: 0.9421\n",
      "\u001b[1m4991/4991\u001b[0m \u001b[32m━━━━━━━━━━━━━━━━━━━━\u001b[0m\u001b[37m\u001b[0m \u001b[1m14s\u001b[0m 3ms/step\n",
      "Restored Model Test Loss: 0.29514002799987793\n",
      "Restored Model Test Accuracy: 0.8802577257156372\n",
      "Restored Model Test Precision: 0.84999680519104\n",
      "Restored Model Test Recall: 0.9421183466911316\n",
      "F1 Score: 0.8936898871407127\n",
      "ROC-AUC Score: 0.9316299602540842\n"
     ]
    }
   ],
   "source": [
    "results = Lstm.evaluate(X_test, y_test, verbose=2)\n",
    "y_pred_prob = Lstm.predict(X_test)  # Get the predicted probabilities\n",
    "y_pred = (y_pred_prob > 0.5).astype(int)  \n",
    "f1 = f1_score(y_test, y_pred)\n",
    "roc_auc = roc_auc_score(y_test, y_pred_prob)  \n",
    "# Assuming you compiled with accuracy, precision, and recall\n",
    "print(f\"Restored Model Test Loss: {results[0]}\")\n",
    "print(f\"Restored Model Test Accuracy: {results[1]}\")\n",
    "print(f\"Restored Model Test Precision: {results[2]}\")\n",
    "print(f\"Restored Model Test Recall: {results[3]}\")\n",
    "print(f\"F1 Score: {f1}\")\n",
    "print(f\"ROC-AUC Score: {roc_auc}\")"
   ]
  },
  {
   "cell_type": "markdown",
   "metadata": {},
   "source": [
    "## CNN"
   ]
  },
  {
   "cell_type": "code",
   "execution_count": 45,
   "metadata": {},
   "outputs": [],
   "source": [
    "tf.keras.backend.clear_session()\n",
    "tf.random.set_seed(50)"
   ]
  },
  {
   "cell_type": "code",
   "execution_count": 46,
   "metadata": {},
   "outputs": [],
   "source": [
    "cnn  = Sequential()\n",
    "cnn.add(Embedding(d,8))\n",
    "cnn.add(Dropout(0.2))\n",
    "cnn.add(Conv1D(128, 5, activation='relu'))\n",
    "cnn.add(MaxPooling1D(pool_size=2))\n",
    "cnn.add(Flatten())\n",
    "cnn.add(Dense(24,activation='relu'))\n",
    "# cnn.add(Dense(1,activation ='sigmoid',kernel_regularizer=l1(0.01), bias_regularizer=l2(0.01)))\n",
    "cnn.add(Dense(1,activation ='sigmoid'))"
   ]
  },
  {
   "cell_type": "code",
   "execution_count": 47,
   "metadata": {},
   "outputs": [],
   "source": [
    "cnn.compile(loss ='binary_crossentropy',optimizer='adam', metrics=['accuracy', 'precision', 'recall'])"
   ]
  },
  {
   "cell_type": "code",
   "execution_count": 48,
   "metadata": {},
   "outputs": [
    {
     "name": "stdout",
     "output_type": "stream",
     "text": [
      "Epoch 1/30\n",
      "19962/19962 - 135s - 7ms/step - accuracy: 0.8662 - loss: 0.3274 - precision: 0.8349 - recall: 0.9347 - val_accuracy: 0.8765 - val_loss: 0.3078 - val_precision: 0.8405 - val_recall: 0.9489\n",
      "Epoch 2/30\n",
      "19962/19962 - 133s - 7ms/step - accuracy: 0.8732 - loss: 0.3138 - precision: 0.8420 - recall: 0.9390 - val_accuracy: 0.8778 - val_loss: 0.3034 - val_precision: 0.8499 - val_recall: 0.9367\n",
      "Epoch 3/30\n",
      "19962/19962 - 133s - 7ms/step - accuracy: 0.8744 - loss: 0.3101 - precision: 0.8434 - recall: 0.9395 - val_accuracy: 0.8781 - val_loss: 0.3015 - val_precision: 0.8510 - val_recall: 0.9357\n",
      "Epoch 4/30\n",
      "19962/19962 - 134s - 7ms/step - accuracy: 0.8751 - loss: 0.3081 - precision: 0.8443 - recall: 0.9397 - val_accuracy: 0.8784 - val_loss: 0.3005 - val_precision: 0.8505 - val_recall: 0.9371\n",
      "Epoch 5/30\n",
      "19962/19962 - 133s - 7ms/step - accuracy: 0.8757 - loss: 0.3070 - precision: 0.8449 - recall: 0.9401 - val_accuracy: 0.8782 - val_loss: 0.3007 - val_precision: 0.8500 - val_recall: 0.9373\n",
      "Epoch 6/30\n",
      "19962/19962 - 133s - 7ms/step - accuracy: 0.8760 - loss: 0.3061 - precision: 0.8451 - recall: 0.9405 - val_accuracy: 0.8785 - val_loss: 0.2995 - val_precision: 0.8516 - val_recall: 0.9356\n",
      "Epoch 7/30\n",
      "19962/19962 - 133s - 7ms/step - accuracy: 0.8762 - loss: 0.3053 - precision: 0.8451 - recall: 0.9409 - val_accuracy: 0.8787 - val_loss: 0.2996 - val_precision: 0.8492 - val_recall: 0.9399\n",
      "Epoch 8/30\n",
      "19962/19962 - 134s - 7ms/step - accuracy: 0.8764 - loss: 0.3048 - precision: 0.8453 - recall: 0.9411 - val_accuracy: 0.8789 - val_loss: 0.2987 - val_precision: 0.8521 - val_recall: 0.9357\n",
      "Epoch 9/30\n",
      "19962/19962 - 134s - 7ms/step - accuracy: 0.8767 - loss: 0.3043 - precision: 0.8457 - recall: 0.9412 - val_accuracy: 0.8788 - val_loss: 0.2991 - val_precision: 0.8531 - val_recall: 0.9340\n",
      "Epoch 10/30\n",
      "19962/19962 - 133s - 7ms/step - accuracy: 0.8769 - loss: 0.3038 - precision: 0.8459 - recall: 0.9412 - val_accuracy: 0.8787 - val_loss: 0.2987 - val_precision: 0.8544 - val_recall: 0.9317\n",
      "Epoch 11/30\n",
      "19962/19962 - 133s - 7ms/step - accuracy: 0.8769 - loss: 0.3032 - precision: 0.8458 - recall: 0.9415 - val_accuracy: 0.8786 - val_loss: 0.2987 - val_precision: 0.8541 - val_recall: 0.9321\n",
      "Epoch 12/30\n",
      "19962/19962 - 134s - 7ms/step - accuracy: 0.8768 - loss: 0.3032 - precision: 0.8459 - recall: 0.9410 - val_accuracy: 0.8790 - val_loss: 0.2983 - val_precision: 0.8518 - val_recall: 0.9365\n",
      "Epoch 13/30\n",
      "19962/19962 - 141s - 7ms/step - accuracy: 0.8772 - loss: 0.3026 - precision: 0.8463 - recall: 0.9415 - val_accuracy: 0.8787 - val_loss: 0.2988 - val_precision: 0.8510 - val_recall: 0.9369\n",
      "Epoch 14/30\n",
      "19962/19962 - 143s - 7ms/step - accuracy: 0.8773 - loss: 0.3025 - precision: 0.8461 - recall: 0.9418 - val_accuracy: 0.8787 - val_loss: 0.2987 - val_precision: 0.8535 - val_recall: 0.9332\n",
      "Epoch 15/30\n",
      "19962/19962 - 137s - 7ms/step - accuracy: 0.8774 - loss: 0.3025 - precision: 0.8463 - recall: 0.9417 - val_accuracy: 0.8789 - val_loss: 0.2980 - val_precision: 0.8512 - val_recall: 0.9372\n",
      "Epoch 16/30\n",
      "19962/19962 - 134s - 7ms/step - accuracy: 0.8774 - loss: 0.3023 - precision: 0.8464 - recall: 0.9418 - val_accuracy: 0.8788 - val_loss: 0.2984 - val_precision: 0.8528 - val_recall: 0.9344\n",
      "Epoch 17/30\n",
      "19962/19962 - 135s - 7ms/step - accuracy: 0.8774 - loss: 0.3019 - precision: 0.8463 - recall: 0.9418 - val_accuracy: 0.8787 - val_loss: 0.2985 - val_precision: 0.8517 - val_recall: 0.9358\n",
      "Epoch 18/30\n",
      "19962/19962 - 134s - 7ms/step - accuracy: 0.8774 - loss: 0.3018 - precision: 0.8463 - recall: 0.9417 - val_accuracy: 0.8786 - val_loss: 0.2981 - val_precision: 0.8542 - val_recall: 0.9317\n",
      "Epoch 18: early stopping\n",
      "Restoring model weights from the end of the best epoch: 15.\n"
     ]
    }
   ],
   "source": [
    "num_epochs =30\n",
    "early_stop = EarlyStopping(monitor='val_loss',patience=3, verbose=1, restore_best_weights=True)\n",
    "historyC=cnn.fit(X_train, y_train,epochs = num_epochs,validation_data=(X_test,y_test),callbacks =[early_stop],verbose =2)\n",
    "# around 6 minutes an epoch when split "
   ]
  },
  {
   "cell_type": "code",
   "execution_count": 49,
   "metadata": {},
   "outputs": [
    {
     "name": "stdout",
     "output_type": "stream",
     "text": [
      "4991/4991 - 6s - 1ms/step - accuracy: 0.8789 - loss: 0.2980 - precision: 0.8512 - recall: 0.9372\n",
      "\u001b[1m4991/4991\u001b[0m \u001b[32m━━━━━━━━━━━━━━━━━━━━\u001b[0m\u001b[37m\u001b[0m \u001b[1m6s\u001b[0m 1ms/step\n",
      "Restored Model Test Loss: 0.29803353548049927\n",
      "Restored Model Test Accuracy: 0.8789364695549011\n",
      "Restored Model Test Precision: 0.851187527179718\n",
      "Restored Model Test Recall: 0.9372421503067017\n",
      "F1 Score: 0.8921444471098863\n",
      "ROC-AUC Score: 0.930766005305423\n"
     ]
    }
   ],
   "source": [
    "results = cnn.evaluate(X_test, y_test, verbose=2)\n",
    "y_pred_prob = cnn.predict(X_test)  # Get the predicted probabilities\n",
    "y_pred = (y_pred_prob > 0.5).astype(int)  \n",
    "f1 = f1_score(y_test, y_pred)\n",
    "roc_auc = roc_auc_score(y_test, y_pred_prob)  \n",
    "# Assuming you compiled with accuracy, precision, and recall\n",
    "print(f\"Restored Model Test Loss: {results[0]}\")\n",
    "print(f\"Restored Model Test Accuracy: {results[1]}\")\n",
    "print(f\"Restored Model Test Precision: {results[2]}\")\n",
    "print(f\"Restored Model Test Recall: {results[3]}\")\n",
    "print(f\"F1 Score: {f1}\")\n",
    "print(f\"ROC-AUC Score: {roc_auc}\")"
   ]
  }
 ],
 "metadata": {
  "kernelspec": {
   "display_name": "base",
   "language": "python",
   "name": "python3"
  },
  "language_info": {
   "codemirror_mode": {
    "name": "ipython",
    "version": 3
   },
   "file_extension": ".py",
   "mimetype": "text/x-python",
   "name": "python",
   "nbconvert_exporter": "python",
   "pygments_lexer": "ipython3",
   "version": "3.9.7"
  }
 },
 "nbformat": 4,
 "nbformat_minor": 2
}
