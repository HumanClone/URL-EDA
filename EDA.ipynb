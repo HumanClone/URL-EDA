{
 "cells": [
  {
   "cell_type": "code",
   "execution_count": 67,
   "metadata": {},
   "outputs": [],
   "source": [
    "import numpy as np\n",
    "import pandas as pd\n",
    "\n",
    "data=pd.read_csv('data_urls.csv')"
   ]
  },
  {
   "cell_type": "code",
   "execution_count": 68,
   "metadata": {},
   "outputs": [
    {
     "name": "stdout",
     "output_type": "stream",
     "text": [
      "<class 'pandas.core.frame.DataFrame'>\n",
      "RangeIndex: 822010 entries, 0 to 822009\n",
      "Data columns (total 2 columns):\n",
      " #   Column  Non-Null Count   Dtype \n",
      "---  ------  --------------   ----- \n",
      " 0   url     822010 non-null  object\n",
      " 1   status  822010 non-null  int64 \n",
      "dtypes: int64(1), object(1)\n",
      "memory usage: 12.5+ MB\n"
     ]
    }
   ],
   "source": [
    "data.info()"
   ]
  },
  {
   "cell_type": "code",
   "execution_count": null,
   "metadata": {},
   "outputs": [],
   "source": []
  },
  {
   "cell_type": "code",
   "execution_count": 69,
   "metadata": {},
   "outputs": [],
   "source": [
    "data['url_length'] = data['url'].apply(len)\n",
    "data['num_special_chars'] = data['url'].apply(lambda x: sum([1 for char in x if char in ['@', '-', '?', '=']]))\n",
    "data['num_subdomains'] = data['url'].apply(lambda x: len(x.split('.')) - 2)\n",
    "data['num_digits']=data['url'].apply(lambda x: sum([1 for char in x if str(char).isdigit()]))\n",
    "data['num_dots']= data['url'].apply(lambda x: sum([1 for char in x if char=='.']))\n",
    "data['tld'] = data['url'].apply(lambda x: x.split('.')[-1])"
   ]
  },
  {
   "cell_type": "code",
   "execution_count": 70,
   "metadata": {},
   "outputs": [
    {
     "data": {
      "text/plain": [
       "0         39\n",
       "1         36\n",
       "2         12\n",
       "3         35\n",
       "4         20\n",
       "          ..\n",
       "822005     9\n",
       "822006     6\n",
       "822007     9\n",
       "822008    16\n",
       "822009    42\n",
       "Name: url_length, Length: 822010, dtype: int64"
      ]
     },
     "execution_count": 70,
     "metadata": {},
     "output_type": "execute_result"
    }
   ],
   "source": [
    "data['url_length']"
   ]
  },
  {
   "cell_type": "code",
   "execution_count": 71,
   "metadata": {},
   "outputs": [
    {
     "data": {
      "text/plain": [
       "count    822010.000000\n",
       "mean         47.089820\n",
       "std          42.556183\n",
       "min           1.000000\n",
       "25%          26.000000\n",
       "50%          37.000000\n",
       "75%          55.000000\n",
       "max        3992.000000\n",
       "Name: url_length, dtype: float64"
      ]
     },
     "execution_count": 71,
     "metadata": {},
     "output_type": "execute_result"
    }
   ],
   "source": [
    "data['url_length'].describe()"
   ]
  },
  {
   "cell_type": "code",
   "execution_count": 72,
   "metadata": {},
   "outputs": [
    {
     "data": {
      "text/plain": [
       "0         0\n",
       "1         0\n",
       "2         0\n",
       "3         0\n",
       "4         0\n",
       "         ..\n",
       "822005    0\n",
       "822006    0\n",
       "822007    0\n",
       "822008    0\n",
       "822009    2\n",
       "Name: num_special_chars, Length: 822010, dtype: int64"
      ]
     },
     "execution_count": 72,
     "metadata": {},
     "output_type": "execute_result"
    }
   ],
   "source": [
    "data['num_special_chars']"
   ]
  },
  {
   "cell_type": "code",
   "execution_count": 73,
   "metadata": {},
   "outputs": [
    {
     "data": {
      "text/plain": [
       "count    822010.000000\n",
       "mean          1.341099\n",
       "std           2.505930\n",
       "min           0.000000\n",
       "25%           0.000000\n",
       "50%           0.000000\n",
       "75%           2.000000\n",
       "max         197.000000\n",
       "Name: num_special_chars, dtype: float64"
      ]
     },
     "execution_count": 73,
     "metadata": {},
     "output_type": "execute_result"
    }
   ],
   "source": [
    "data['num_special_chars'].describe()"
   ]
  },
  {
   "cell_type": "code",
   "execution_count": 74,
   "metadata": {},
   "outputs": [
    {
     "data": {
      "text/plain": [
       "0         1\n",
       "1         1\n",
       "2         0\n",
       "3         1\n",
       "4         1\n",
       "         ..\n",
       "822005    0\n",
       "822006    0\n",
       "822007    1\n",
       "822008    1\n",
       "822009    3\n",
       "Name: num_subdomains, Length: 822010, dtype: int64"
      ]
     },
     "execution_count": 74,
     "metadata": {},
     "output_type": "execute_result"
    }
   ],
   "source": [
    "data['num_subdomains']"
   ]
  },
  {
   "cell_type": "code",
   "execution_count": 75,
   "metadata": {},
   "outputs": [
    {
     "data": {
      "text/plain": [
       "count    822010.000000\n",
       "mean          1.132614\n",
       "std           1.505595\n",
       "min          -1.000000\n",
       "25%           0.000000\n",
       "50%           1.000000\n",
       "75%           1.000000\n",
       "max          36.000000\n",
       "Name: num_subdomains, dtype: float64"
      ]
     },
     "execution_count": 75,
     "metadata": {},
     "output_type": "execute_result"
    }
   ],
   "source": [
    "data['num_subdomains'].describe()"
   ]
  },
  {
   "cell_type": "code",
   "execution_count": 76,
   "metadata": {},
   "outputs": [
    {
     "data": {
      "text/plain": [
       "0         7\n",
       "1         6\n",
       "2         5\n",
       "3         4\n",
       "4         5\n",
       "         ..\n",
       "822005    0\n",
       "822006    0\n",
       "822007    0\n",
       "822008    0\n",
       "822009    4\n",
       "Name: num_digits, Length: 822010, dtype: int64"
      ]
     },
     "execution_count": 76,
     "metadata": {},
     "output_type": "execute_result"
    }
   ],
   "source": [
    "data['num_digits']"
   ]
  },
  {
   "cell_type": "code",
   "execution_count": 77,
   "metadata": {},
   "outputs": [
    {
     "data": {
      "text/plain": [
       "count    822010.000000\n",
       "mean          3.985646\n",
       "std          10.932098\n",
       "min           0.000000\n",
       "25%           0.000000\n",
       "50%           0.000000\n",
       "75%           4.000000\n",
       "max        1575.000000\n",
       "Name: num_digits, dtype: float64"
      ]
     },
     "execution_count": 77,
     "metadata": {},
     "output_type": "execute_result"
    }
   ],
   "source": [
    "data['num_digits'].describe()"
   ]
  },
  {
   "cell_type": "code",
   "execution_count": 78,
   "metadata": {},
   "outputs": [
    {
     "data": {
      "text/plain": [
       "0         2\n",
       "1         2\n",
       "2         1\n",
       "3         2\n",
       "4         2\n",
       "         ..\n",
       "822005    1\n",
       "822006    1\n",
       "822007    2\n",
       "822008    2\n",
       "822009    4\n",
       "Name: num_dots, Length: 822010, dtype: int64"
      ]
     },
     "execution_count": 78,
     "metadata": {},
     "output_type": "execute_result"
    }
   ],
   "source": [
    "data['num_dots']"
   ]
  },
  {
   "cell_type": "code",
   "execution_count": 79,
   "metadata": {},
   "outputs": [
    {
     "data": {
      "text/plain": [
       "count    822010.000000\n",
       "mean          2.132614\n",
       "std           1.505595\n",
       "min           0.000000\n",
       "25%           1.000000\n",
       "50%           2.000000\n",
       "75%           2.000000\n",
       "max          37.000000\n",
       "Name: num_dots, dtype: float64"
      ]
     },
     "execution_count": 79,
     "metadata": {},
     "output_type": "execute_result"
    }
   ],
   "source": [
    "data['num_dots'].describe()"
   ]
  },
  {
   "cell_type": "code",
   "execution_count": 80,
   "metadata": {},
   "outputs": [
    {
     "data": {
      "text/plain": [
       "0            com\n",
       "1            com\n",
       "2         online\n",
       "3            com\n",
       "4            com\n",
       "           ...  \n",
       "822005       com\n",
       "822006        li\n",
       "822007        uk\n",
       "822008        za\n",
       "822009       com\n",
       "Name: tld, Length: 822010, dtype: object"
      ]
     },
     "execution_count": 80,
     "metadata": {},
     "output_type": "execute_result"
    }
   ],
   "source": [
    "data['tld']"
   ]
  },
  {
   "cell_type": "code",
   "execution_count": 81,
   "metadata": {},
   "outputs": [
    {
     "data": {
      "text/plain": [
       "count     822010\n",
       "unique    327733\n",
       "top         html\n",
       "freq       82896\n",
       "Name: tld, dtype: object"
      ]
     },
     "execution_count": 81,
     "metadata": {},
     "output_type": "execute_result"
    }
   ],
   "source": [
    "data['tld'].describe()"
   ]
  },
  {
   "cell_type": "code",
   "execution_count": 82,
   "metadata": {},
   "outputs": [
    {
     "data": {
      "text/plain": [
       "['com',\n",
       " 'https:',\n",
       " 'www',\n",
       " 'html',\n",
       " 'http:',\n",
       " 'org',\n",
       " 'net',\n",
       " 'cn',\n",
       " 'php',\n",
       " 'htm',\n",
       " 'index',\n",
       " 'co',\n",
       " 'en',\n",
       " 'login',\n",
       " 'wiki']"
      ]
     },
     "execution_count": 82,
     "metadata": {},
     "output_type": "execute_result"
    }
   ],
   "source": [
    "def tok(string) -> str:\n",
    "    return string.replace('/', '.').split('.')\n",
    "\n",
    "def to_txt(text) -> str:\n",
    "    return text.replace('.', ' ').replace('/', ' ')\n",
    "def top_terms(df, n) -> list[str]:\n",
    "    term = {}\n",
    "    for url in data['url']:\n",
    "        for word in tok(url):\n",
    "            if word != '':\n",
    "                if word not in term.keys():\n",
    "                    term[word] = 0\n",
    "\n",
    "                term[word]+=1\n",
    "            \n",
    "    return [t[0] for t in sorted(term.items(), key=lambda x:x[1], reverse=True)[:n]]\n",
    "\n",
    "tw=top_terms(data['url'], 15)\n",
    "tw"
   ]
  },
  {
   "cell_type": "code",
   "execution_count": 83,
   "metadata": {},
   "outputs": [
    {
     "data": {
      "text/html": [
       "<div>\n",
       "<style scoped>\n",
       "    .dataframe tbody tr th:only-of-type {\n",
       "        vertical-align: middle;\n",
       "    }\n",
       "\n",
       "    .dataframe tbody tr th {\n",
       "        vertical-align: top;\n",
       "    }\n",
       "\n",
       "    .dataframe thead th {\n",
       "        text-align: right;\n",
       "    }\n",
       "</style>\n",
       "<table border=\"1\" class=\"dataframe\">\n",
       "  <thead>\n",
       "    <tr style=\"text-align: right;\">\n",
       "      <th></th>\n",
       "      <th>url</th>\n",
       "      <th>status</th>\n",
       "      <th>url_length</th>\n",
       "      <th>num_special_chars</th>\n",
       "      <th>num_subdomains</th>\n",
       "      <th>num_digits</th>\n",
       "      <th>num_dots</th>\n",
       "      <th>tld</th>\n",
       "    </tr>\n",
       "  </thead>\n",
       "  <tbody>\n",
       "    <tr>\n",
       "      <th>0</th>\n",
       "      <td>0000111servicehelpdesk.godaddysites.com</td>\n",
       "      <td>0</td>\n",
       "      <td>39</td>\n",
       "      <td>0</td>\n",
       "      <td>1</td>\n",
       "      <td>7</td>\n",
       "      <td>2</td>\n",
       "      <td>com</td>\n",
       "    </tr>\n",
       "    <tr>\n",
       "      <th>1</th>\n",
       "      <td>000011accesswebform.godaddysites.com</td>\n",
       "      <td>0</td>\n",
       "      <td>36</td>\n",
       "      <td>0</td>\n",
       "      <td>1</td>\n",
       "      <td>6</td>\n",
       "      <td>2</td>\n",
       "      <td>com</td>\n",
       "    </tr>\n",
       "    <tr>\n",
       "      <th>2</th>\n",
       "      <td>00003.online</td>\n",
       "      <td>0</td>\n",
       "      <td>12</td>\n",
       "      <td>0</td>\n",
       "      <td>0</td>\n",
       "      <td>5</td>\n",
       "      <td>1</td>\n",
       "      <td>online</td>\n",
       "    </tr>\n",
       "    <tr>\n",
       "      <th>3</th>\n",
       "      <td>0009servicedeskowa.godaddysites.com</td>\n",
       "      <td>0</td>\n",
       "      <td>35</td>\n",
       "      <td>0</td>\n",
       "      <td>1</td>\n",
       "      <td>4</td>\n",
       "      <td>2</td>\n",
       "      <td>com</td>\n",
       "    </tr>\n",
       "    <tr>\n",
       "      <th>4</th>\n",
       "      <td>000n38p.wcomhost.com</td>\n",
       "      <td>0</td>\n",
       "      <td>20</td>\n",
       "      <td>0</td>\n",
       "      <td>1</td>\n",
       "      <td>5</td>\n",
       "      <td>2</td>\n",
       "      <td>com</td>\n",
       "    </tr>\n",
       "  </tbody>\n",
       "</table>\n",
       "</div>"
      ],
      "text/plain": [
       "                                       url  status  url_length  \\\n",
       "0  0000111servicehelpdesk.godaddysites.com       0          39   \n",
       "1     000011accesswebform.godaddysites.com       0          36   \n",
       "2                             00003.online       0          12   \n",
       "3      0009servicedeskowa.godaddysites.com       0          35   \n",
       "4                     000n38p.wcomhost.com       0          20   \n",
       "\n",
       "   num_special_chars  num_subdomains  num_digits  num_dots     tld  \n",
       "0                  0               1           7         2     com  \n",
       "1                  0               1           6         2     com  \n",
       "2                  0               0           5         1  online  \n",
       "3                  0               1           4         2     com  \n",
       "4                  0               1           5         2     com  "
      ]
     },
     "execution_count": 83,
     "metadata": {},
     "output_type": "execute_result"
    }
   ],
   "source": [
    "data.head()"
   ]
  },
  {
   "cell_type": "code",
   "execution_count": 84,
   "metadata": {},
   "outputs": [
    {
     "data": {
      "text/plain": [
       "0            0000111servicehelpdesk.godaddysites.com\n",
       "1               000011accesswebform.godaddysites.com\n",
       "2                                       00003.online\n",
       "3                0009servicedeskowa.godaddysites.com\n",
       "4                               000n38p.wcomhost.com\n",
       "                             ...                    \n",
       "822005                                     zzufg.com\n",
       "822006                                        zzu.li\n",
       "822007                                     zzz.co.uk\n",
       "822008                              zzzoolight.co.za\n",
       "822009    zzzoolight.co.za0-i-fdik.000webhostapp.com\n",
       "Name: url, Length: 822010, dtype: object"
      ]
     },
     "execution_count": 84,
     "metadata": {},
     "output_type": "execute_result"
    }
   ],
   "source": [
    "data['url']"
   ]
  }
 ],
 "metadata": {
  "kernelspec": {
   "display_name": "base",
   "language": "python",
   "name": "python3"
  },
  "language_info": {
   "codemirror_mode": {
    "name": "ipython",
    "version": 3
   },
   "file_extension": ".py",
   "mimetype": "text/x-python",
   "name": "python",
   "nbconvert_exporter": "python",
   "pygments_lexer": "ipython3",
   "version": "3.11.7"
  },
  "orig_nbformat": 4
 },
 "nbformat": 4,
 "nbformat_minor": 2
}
